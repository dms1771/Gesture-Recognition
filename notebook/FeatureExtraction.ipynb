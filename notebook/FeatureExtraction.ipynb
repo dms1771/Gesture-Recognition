{
 "cells": [
  {
   "cell_type": "markdown",
   "metadata": {},
   "source": [
    "# Import Necessary Libraries"
   ]
  },
  {
   "cell_type": "code",
   "execution_count": 2,
   "metadata": {},
   "outputs": [],
   "source": [
    "import numpy as np\n",
    "import pandas as pd\n",
    "import matplotlib.pyplot as plt\n",
    "import random\n",
    "import math\n",
    "import collections\n",
    "import os\n",
    "import json"
   ]
  },
  {
   "cell_type": "markdown",
   "metadata": {},
   "source": [
    "# Loading data files\n",
    "-------------\n",
    "The 'X' variable contains 12 normalized pose net feature points in the following sequence\n",
    "\n",
    "[\"leftShoulder_x\", \"leftShoulder_y\", \"rightShoulder_x\", \"rightShoulder_y\", \"leftElbow_x\", \"leftElbow_y\", \"rightElbow_x\", \"rightElbow_y\", \"leftWrist_x\", \"leftWrist_y\", \"rightWrist_x\", \"rightWrist_y]\n",
    "\n",
    "We no longer need the nose and eye values"
   ]
  },
  {
   "cell_type": "code",
   "execution_count": 3,
   "metadata": {},
   "outputs": [
    {
     "name": "stdout",
     "output_type": "stream",
     "text": [
      "(415, 232, 12) (415,)\n"
     ]
    }
   ],
   "source": [
    "X = np.load(os.path.join(\"..\", \"IPD\", \"data_numpy.npy\")) \n",
    "Y = np.load(os.path.join(\"..\", \"IPD\", \"label_numpy.npy\"))\n",
    "print(X.shape, Y.shape)"
   ]
  },
  {
   "cell_type": "code",
   "execution_count": null,
   "metadata": {},
   "outputs": [],
   "source": []
  }
 ],
 "metadata": {
  "kernelspec": {
   "display_name": "Python 3",
   "language": "python",
   "name": "python3"
  },
  "language_info": {
   "codemirror_mode": {
    "name": "ipython",
    "version": 3
   },
   "file_extension": ".py",
   "mimetype": "text/x-python",
   "name": "python",
   "nbconvert_exporter": "python",
   "pygments_lexer": "ipython3",
   "version": "3.7.7"
  }
 },
 "nbformat": 4,
 "nbformat_minor": 4
}
