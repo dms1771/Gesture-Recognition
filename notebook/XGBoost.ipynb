{
 "cells": [
  {
   "cell_type": "markdown",
   "metadata": {},
   "source": [
    "# Import Necessary Libraries"
   ]
  },
  {
   "cell_type": "code",
   "execution_count": 28,
   "metadata": {},
   "outputs": [],
   "source": [
    "import numpy as np\n",
    "import pandas as pd\n",
    "import matplotlib.pyplot as plt\n",
    "import random\n",
    "import math\n",
    "import collections\n",
    "import os\n",
    "import json\n",
    "import pickle\n",
    "\n",
    "from xgboost import XGBClassifier\n",
    "from sklearn.preprocessing import StandardScaler, MinMaxScaler\n",
    "from sklearn.model_selection import StratifiedKFold\n",
    "from sklearn.model_selection import RandomizedSearchCV, GridSearchCV\n",
    "from sklearn.model_selection import train_test_split\n",
    "from sklearn.metrics import classification_report, confusion_matrix\n",
    "from sklearn.model_selection import cross_val_predict\n",
    "\n",
    "import warnings\n",
    "warnings.filterwarnings('ignore')"
   ]
  },
  {
   "cell_type": "markdown",
   "metadata": {},
   "source": [
    "# Load the Train Test Split"
   ]
  },
  {
   "cell_type": "code",
   "execution_count": 29,
   "metadata": {},
   "outputs": [
    {
     "name": "stdout",
     "output_type": "stream",
     "text": [
      "Training samples : (332, 250, 12) \n",
      "Testing Samples : (83, 250, 12)\n",
      "Training Labels : (332,) \n",
      "Testing Labels : (83,)\n"
     ]
    }
   ],
   "source": [
    "X_train = np.load(os.path.join(\"..\", \"IPD\", \"x_train.npy\"))\n",
    "X_test = np.load(os.path.join(\"..\", \"IPD\", \"x_test.npy\"))\n",
    "Y_train = np.load(os.path.join(\"..\", \"IPD\", \"y_train.npy\"))\n",
    "Y_test = np.load(os.path.join(\"..\", \"IPD\", \"y_test.npy\"))\n",
    "print(\"Training samples : {} \\nTesting Samples : {}\".format(X_train.shape, X_test.shape))\n",
    "print(\"Training Labels : {} \\nTesting Labels : {}\".format(Y_train.shape, Y_test.shape))"
   ]
  },
  {
   "cell_type": "code",
   "execution_count": 30,
   "metadata": {},
   "outputs": [],
   "source": [
    "_ , num_timeframes, num_features = X_train.shape"
   ]
  },
  {
   "cell_type": "markdown",
   "metadata": {},
   "source": [
    "# Reshape data for the model\n",
    "-----------------\n",
    "Samples are a 2D matrix which need to be reshaped to 1D to feed into the model"
   ]
  },
  {
   "cell_type": "code",
   "execution_count": 31,
   "metadata": {},
   "outputs": [
    {
     "name": "stdout",
     "output_type": "stream",
     "text": [
      "Training samples : (332, 3000) \n",
      "Testing Samples : (83, 3000)\n",
      "Training Labels : (332,) \n",
      "Testing Labels : (83,)\n"
     ]
    }
   ],
   "source": [
    "X_train = X_train.reshape((-1,num_timeframes*num_features))\n",
    "X_test = X_test.reshape((-1,num_timeframes*num_features))\n",
    "print(\"Training samples : {} \\nTesting Samples : {}\".format(X_train.shape, X_test.shape))\n",
    "print(\"Training Labels : {} \\nTesting Labels : {}\".format(Y_train.shape, Y_test.shape))"
   ]
  },
  {
   "cell_type": "markdown",
   "metadata": {},
   "source": [
    "# Grid search over XGBoost model"
   ]
  },
  {
   "cell_type": "code",
   "execution_count": null,
   "metadata": {},
   "outputs": [
    {
     "name": "stdout",
     "output_type": "stream",
     "text": [
      "Fitting 2 folds for each of 54 candidates, totalling 108 fits\n",
      "[CV] gamma=1.0, learning_rate=0.2, max_depth=8, n_estimators=14 ......\n"
     ]
    },
    {
     "name": "stderr",
     "output_type": "stream",
     "text": [
      "[Parallel(n_jobs=1)]: Using backend SequentialBackend with 1 concurrent workers.\n"
     ]
    },
    {
     "name": "stdout",
     "output_type": "stream",
     "text": [
      "[CV]  gamma=1.0, learning_rate=0.2, max_depth=8, n_estimators=14, total=   3.1s\n",
      "[CV] gamma=1.0, learning_rate=0.2, max_depth=8, n_estimators=14 ......\n"
     ]
    },
    {
     "name": "stderr",
     "output_type": "stream",
     "text": [
      "[Parallel(n_jobs=1)]: Done   1 out of   1 | elapsed:    3.0s remaining:    0.0s\n"
     ]
    },
    {
     "name": "stdout",
     "output_type": "stream",
     "text": [
      "[CV]  gamma=1.0, learning_rate=0.2, max_depth=8, n_estimators=14, total=   3.1s\n",
      "[CV] gamma=1.0, learning_rate=0.2, max_depth=8, n_estimators=16 ......\n",
      "[CV]  gamma=1.0, learning_rate=0.2, max_depth=8, n_estimators=16, total=   3.0s\n",
      "[CV] gamma=1.0, learning_rate=0.2, max_depth=8, n_estimators=16 ......\n",
      "[CV]  gamma=1.0, learning_rate=0.2, max_depth=8, n_estimators=16, total=   3.1s\n",
      "[CV] gamma=1.0, learning_rate=0.2, max_depth=8, n_estimators=18 ......\n",
      "[CV]  gamma=1.0, learning_rate=0.2, max_depth=8, n_estimators=18, total=   3.3s\n",
      "[CV] gamma=1.0, learning_rate=0.2, max_depth=8, n_estimators=18 ......\n"
     ]
    }
   ],
   "source": [
    "parameters = {\n",
    "    'max_depth': [8, 10],\n",
    "    'n_estimators': [14, 16, 18],\n",
    "    'learning_rate': [0.2, 0.25, 0.3],\n",
    "    'gamma':[1.0, 1.5, 2.0]\n",
    "}\n",
    "xgb = XGBClassifier(objective='multi:softmax', tree_method='gpu_hist', gpu_id=0)\n",
    "grid = GridSearchCV(xgb, parameters, cv=2, scoring='accuracy', verbose=2)\n",
    "grid.fit(X_train, Y_train)"
   ]
  },
  {
   "cell_type": "code",
   "execution_count": null,
   "metadata": {},
   "outputs": [],
   "source": [
    "params = grid.best_params_\n",
    "best_estimator = grid.best_estimator_\n",
    "print(params)\n",
    "print(best_estimator)"
   ]
  },
  {
   "cell_type": "code",
   "execution_count": null,
   "metadata": {},
   "outputs": [],
   "source": [
    "clf = best_estimator\n",
    "clf.fit(X_train,Y_train)"
   ]
  },
  {
   "cell_type": "code",
   "execution_count": null,
   "metadata": {},
   "outputs": [],
   "source": [
    "Y_pred = clf.predict(X_test)\n",
    "print(classification_report(Y_test, Y_pred))\n",
    "print(confusion_matrix(Y_test,Y_pred))"
   ]
  },
  {
   "cell_type": "markdown",
   "metadata": {},
   "source": [
    "# Saving model"
   ]
  },
  {
   "cell_type": "code",
   "execution_count": 41,
   "metadata": {},
   "outputs": [
    {
     "name": "stdout",
     "output_type": "stream",
     "text": [
      "Model Saved\n"
     ]
    }
   ],
   "source": [
    "pickle.dump(clf, open(os.path.join(\"..\", \"IPD\", \"XGBoost_model.pkl\"), 'wb'))\n",
    "print(\"Model Saved\")"
   ]
  },
  {
   "cell_type": "code",
   "execution_count": null,
   "metadata": {},
   "outputs": [],
   "source": []
  }
 ],
 "metadata": {
  "kernelspec": {
   "display_name": "Python 3",
   "language": "python",
   "name": "python3"
  },
  "language_info": {
   "codemirror_mode": {
    "name": "ipython",
    "version": 3
   },
   "file_extension": ".py",
   "mimetype": "text/x-python",
   "name": "python",
   "nbconvert_exporter": "python",
   "pygments_lexer": "ipython3",
   "version": "3.7.7"
  }
 },
 "nbformat": 4,
 "nbformat_minor": 4
}
