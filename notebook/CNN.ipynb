{
 "cells": [
  {
   "cell_type": "markdown",
   "metadata": {},
   "source": [
    "# Import Necessary Libraries"
   ]
  },
  {
   "cell_type": "code",
   "execution_count": 7,
   "metadata": {},
   "outputs": [
    {
     "name": "stdout",
     "output_type": "stream",
     "text": [
      "Device mapping:\n",
      "\n"
     ]
    }
   ],
   "source": [
    "import numpy as np\n",
    "import pandas as pd\n",
    "import matplotlib.pyplot as plt\n",
    "import random\n",
    "import math\n",
    "import collections\n",
    "import os\n",
    "import json\n",
    "import pickle\n",
    "import keras\n",
    "import warnings\n",
    "import tensorflow as tf\n",
    "\n",
    "from sklearn.preprocessing import StandardScaler, MinMaxScaler\n",
    "from keras.models import Sequential\n",
    "from keras.layers import Dense, Dropout, Flatten\n",
    "from keras.layers import Conv2D, MaxPooling2D\n",
    "from keras import backend as K\n",
    "\n",
    "warnings.filterwarnings('ignore')\n",
    "sess = tf.Session(config=tf.ConfigProto(log_device_placement=True))"
   ]
  },
  {
   "cell_type": "markdown",
   "metadata": {},
   "source": [
    "# Load the Train Test Split"
   ]
  },
  {
   "cell_type": "code",
   "execution_count": 35,
   "metadata": {},
   "outputs": [
    {
     "name": "stdout",
     "output_type": "stream",
     "text": [
      "Training samples : (332, 250, 12) \n",
      "Testing Samples : (83, 250, 12)\n",
      "Training Labels : (332,) \n",
      "Testing Labels : (83,)\n"
     ]
    }
   ],
   "source": [
    "X_train = np.load(os.path.join(\"..\", \"IPD\", \"x_train.npy\"))\n",
    "X_test = np.load(os.path.join(\"..\", \"IPD\", \"x_test.npy\"))\n",
    "Y_train = np.load(os.path.join(\"..\", \"IPD\", \"y_train.npy\"))\n",
    "Y_test = np.load(os.path.join(\"..\", \"IPD\", \"y_test.npy\"))\n",
    "print(\"Training samples : {} \\nTesting Samples : {}\".format(X_train.shape, X_test.shape))\n",
    "print(\"Training Labels : {} \\nTesting Labels : {}\".format(Y_train.shape, Y_test.shape))"
   ]
  },
  {
   "cell_type": "code",
   "execution_count": 36,
   "metadata": {},
   "outputs": [],
   "source": [
    "_, num_timeframes, num_features = X_train.shape"
   ]
  },
  {
   "cell_type": "markdown",
   "metadata": {},
   "source": [
    "# Reshape data for model"
   ]
  },
  {
   "cell_type": "code",
   "execution_count": 37,
   "metadata": {},
   "outputs": [
    {
     "name": "stdout",
     "output_type": "stream",
     "text": [
      "Training samples : (332, 250, 12, 1) \n",
      "Testing Samples : (83, 250, 12, 1)\n",
      "Training Labels : (332, 6) \n",
      "Testing Labels : (83, 6)\n"
     ]
    }
   ],
   "source": [
    "X_train = X_train.reshape((-1,num_timeframes,num_features,1))\n",
    "X_test = X_test.reshape((-1,num_timeframes,num_features,1))\n",
    "Y_train = keras.utils.to_categorical(Y_train, 6)\n",
    "Y_test = keras.utils.to_categorical(Y_test, 6)\n",
    "print(\"Training samples : {} \\nTesting Samples : {}\".format(X_train.shape, X_test.shape))\n",
    "print(\"Training Labels : {} \\nTesting Labels : {}\".format(Y_train.shape, Y_test.shape))"
   ]
  },
  {
   "cell_type": "markdown",
   "metadata": {},
   "source": [
    "# CNN Model"
   ]
  },
  {
   "cell_type": "code",
   "execution_count": 46,
   "metadata": {},
   "outputs": [
    {
     "name": "stdout",
     "output_type": "stream",
     "text": [
      "Model: \"sequential_8\"\n",
      "_________________________________________________________________\n",
      "Layer (type)                 Output Shape              Param #   \n",
      "=================================================================\n",
      "conv2d_15 (Conv2D)           (None, 246, 8, 6)         156       \n",
      "_________________________________________________________________\n",
      "conv2d_16 (Conv2D)           (None, 244, 6, 12)        660       \n",
      "_________________________________________________________________\n",
      "max_pooling2d_8 (MaxPooling2 (None, 122, 3, 12)        0         \n",
      "_________________________________________________________________\n",
      "dropout_15 (Dropout)         (None, 122, 3, 12)        0         \n",
      "_________________________________________________________________\n",
      "flatten_8 (Flatten)          (None, 4392)              0         \n",
      "_________________________________________________________________\n",
      "dense_15 (Dense)             (None, 12)                52716     \n",
      "_________________________________________________________________\n",
      "dropout_16 (Dropout)         (None, 12)                0         \n",
      "_________________________________________________________________\n",
      "dense_16 (Dense)             (None, 6)                 78        \n",
      "=================================================================\n",
      "Total params: 53,610\n",
      "Trainable params: 53,610\n",
      "Non-trainable params: 0\n",
      "_________________________________________________________________\n",
      "None\n"
     ]
    }
   ],
   "source": [
    "input_shape = X_train[0].shape\n",
    "batch_size = 5\n",
    "epochs = 150\n",
    "\n",
    "model = Sequential()\n",
    "model.add(Conv2D(6, kernel_size=(5, 5),\n",
    "                 activation='tanh',\n",
    "                 input_shape=input_shape))\n",
    "model.add(Conv2D(12, (3, 3), activation='tanh'))\n",
    "model.add(MaxPooling2D(pool_size=(2, 2)))\n",
    "model.add(Dropout(0.25))\n",
    "model.add(Flatten())\n",
    "model.add(Dense(12, activation='relu'))\n",
    "model.add(Dropout(0.25))\n",
    "model.add(Dense(6, activation='softmax'))\n",
    "print(model.summary())"
   ]
  },
  {
   "cell_type": "code",
   "execution_count": 50,
   "metadata": {},
   "outputs": [
    {
     "name": "stdout",
     "output_type": "stream",
     "text": [
      "Train on 332 samples, validate on 83 samples\n",
      "Epoch 1/150\n",
      "332/332 [==============================] - 3s 10ms/step - loss: 0.2246 - acc: 0.9157 - val_loss: 0.4065 - val_acc: 0.8916\n",
      "Epoch 2/150\n",
      "332/332 [==============================] - 1s 4ms/step - loss: 0.1834 - acc: 0.9277 - val_loss: 0.3401 - val_acc: 0.8554\n",
      "Epoch 3/150\n",
      "332/332 [==============================] - 2s 5ms/step - loss: 0.2611 - acc: 0.9066 - val_loss: 0.3255 - val_acc: 0.8675\n",
      "Epoch 4/150\n",
      "332/332 [==============================] - 2s 6ms/step - loss: 0.2397 - acc: 0.9127 - val_loss: 0.3253 - val_acc: 0.8675\n",
      "Epoch 5/150\n",
      "332/332 [==============================] - 2s 6ms/step - loss: 0.2353 - acc: 0.9096 - val_loss: 0.3256 - val_acc: 0.8313\n",
      "Epoch 6/150\n",
      "332/332 [==============================] - 2s 6ms/step - loss: 0.2505 - acc: 0.9096 - val_loss: 0.3320 - val_acc: 0.8675\n",
      "Epoch 7/150\n",
      "332/332 [==============================] - 2s 6ms/step - loss: 0.2258 - acc: 0.9127 - val_loss: 0.3430 - val_acc: 0.8795\n",
      "Epoch 8/150\n",
      "332/332 [==============================] - 2s 6ms/step - loss: 0.1687 - acc: 0.9488 - val_loss: 0.3964 - val_acc: 0.8795\n",
      "Epoch 9/150\n",
      "332/332 [==============================] - 2s 5ms/step - loss: 0.2514 - acc: 0.9006 - val_loss: 0.2908 - val_acc: 0.8795\n",
      "Epoch 10/150\n",
      "332/332 [==============================] - 1s 4ms/step - loss: 0.2296 - acc: 0.9307 - val_loss: 0.3495 - val_acc: 0.8795\n",
      "Epoch 11/150\n",
      "332/332 [==============================] - 1s 4ms/step - loss: 0.2119 - acc: 0.9217 - val_loss: 0.2856 - val_acc: 0.8795\n",
      "Epoch 12/150\n",
      "332/332 [==============================] - 2s 5ms/step - loss: 0.2591 - acc: 0.9157 - val_loss: 0.3631 - val_acc: 0.8675\n",
      "Epoch 13/150\n",
      "332/332 [==============================] - 2s 5ms/step - loss: 0.2270 - acc: 0.9217 - val_loss: 0.3429 - val_acc: 0.8675\n",
      "Epoch 14/150\n",
      "332/332 [==============================] - 2s 5ms/step - loss: 0.1937 - acc: 0.9036 - val_loss: 0.3783 - val_acc: 0.8795\n",
      "Epoch 15/150\n",
      "332/332 [==============================] - 2s 5ms/step - loss: 0.2791 - acc: 0.8825 - val_loss: 0.2935 - val_acc: 0.8675\n",
      "Epoch 16/150\n",
      "332/332 [==============================] - 2s 5ms/step - loss: 0.2518 - acc: 0.9036 - val_loss: 0.3280 - val_acc: 0.8675\n",
      "Epoch 17/150\n",
      "332/332 [==============================] - 1s 3ms/step - loss: 0.2084 - acc: 0.9217 - val_loss: 0.3467 - val_acc: 0.8795\n",
      "Epoch 18/150\n",
      "332/332 [==============================] - 1s 3ms/step - loss: 0.2842 - acc: 0.8705 - val_loss: 0.3264 - val_acc: 0.9036\n",
      "Epoch 19/150\n",
      "332/332 [==============================] - 1s 4ms/step - loss: 0.2547 - acc: 0.9127 - val_loss: 0.4421 - val_acc: 0.8916\n",
      "Epoch 20/150\n",
      "332/332 [==============================] - 2s 5ms/step - loss: 0.2174 - acc: 0.9187 - val_loss: 0.3435 - val_acc: 0.8675\n",
      "Epoch 21/150\n",
      "332/332 [==============================] - 1s 4ms/step - loss: 0.2652 - acc: 0.9006 - val_loss: 0.3276 - val_acc: 0.8795\n",
      "Epoch 22/150\n",
      "332/332 [==============================] - 2s 5ms/step - loss: 0.2517 - acc: 0.9277 - val_loss: 0.3606 - val_acc: 0.8916\n",
      "Epoch 23/150\n",
      "332/332 [==============================] - 1s 4ms/step - loss: 0.1938 - acc: 0.9307 - val_loss: 0.4009 - val_acc: 0.8554\n",
      "Epoch 24/150\n",
      "332/332 [==============================] - 2s 5ms/step - loss: 0.1771 - acc: 0.9398 - val_loss: 0.3717 - val_acc: 0.8795\n",
      "Epoch 25/150\n",
      "332/332 [==============================] - 2s 5ms/step - loss: 0.2198 - acc: 0.8976 - val_loss: 0.3912 - val_acc: 0.8675\n",
      "Epoch 26/150\n",
      "332/332 [==============================] - 2s 5ms/step - loss: 0.2137 - acc: 0.9247 - val_loss: 0.3351 - val_acc: 0.8795\n",
      "Epoch 27/150\n",
      "332/332 [==============================] - 2s 5ms/step - loss: 0.2190 - acc: 0.9277 - val_loss: 0.3310 - val_acc: 0.8916\n",
      "Epoch 28/150\n",
      "332/332 [==============================] - 2s 5ms/step - loss: 0.2401 - acc: 0.9157 - val_loss: 0.3496 - val_acc: 0.8916\n",
      "Epoch 29/150\n",
      "332/332 [==============================] - 2s 5ms/step - loss: 0.2358 - acc: 0.9157 - val_loss: 0.4581 - val_acc: 0.8916\n",
      "Epoch 30/150\n",
      "332/332 [==============================] - 2s 5ms/step - loss: 0.2311 - acc: 0.9247 - val_loss: 0.3989 - val_acc: 0.8795\n",
      "Epoch 31/150\n",
      "332/332 [==============================] - 2s 5ms/step - loss: 0.1743 - acc: 0.9367 - val_loss: 0.4487 - val_acc: 0.8795\n",
      "Epoch 32/150\n",
      "332/332 [==============================] - 2s 5ms/step - loss: 0.1974 - acc: 0.9367 - val_loss: 0.4250 - val_acc: 0.9036\n",
      "Epoch 33/150\n",
      "332/332 [==============================] - 2s 5ms/step - loss: 0.1922 - acc: 0.9307 - val_loss: 0.3597 - val_acc: 0.8916\n",
      "Epoch 34/150\n",
      "332/332 [==============================] - 2s 5ms/step - loss: 0.1867 - acc: 0.9337 - val_loss: 0.4953 - val_acc: 0.8795\n",
      "Epoch 35/150\n",
      "332/332 [==============================] - 1s 4ms/step - loss: 0.1975 - acc: 0.9398 - val_loss: 0.4474 - val_acc: 0.8554\n",
      "Epoch 36/150\n",
      "332/332 [==============================] - 2s 5ms/step - loss: 0.2518 - acc: 0.9127 - val_loss: 0.4127 - val_acc: 0.8916\n",
      "Epoch 37/150\n",
      "332/332 [==============================] - 2s 5ms/step - loss: 0.1961 - acc: 0.9367 - val_loss: 0.4214 - val_acc: 0.8554\n",
      "Epoch 38/150\n",
      "332/332 [==============================] - 2s 5ms/step - loss: 0.2232 - acc: 0.9337 - val_loss: 0.3347 - val_acc: 0.8916\n",
      "Epoch 39/150\n",
      "332/332 [==============================] - 2s 5ms/step - loss: 0.1769 - acc: 0.9307 - val_loss: 0.3085 - val_acc: 0.8916\n",
      "Epoch 40/150\n",
      "332/332 [==============================] - 2s 6ms/step - loss: 0.2514 - acc: 0.9006 - val_loss: 0.3424 - val_acc: 0.8916\n",
      "Epoch 41/150\n",
      "332/332 [==============================] - 2s 6ms/step - loss: 0.1349 - acc: 0.9548 - val_loss: 0.4464 - val_acc: 0.8554\n",
      "Epoch 42/150\n",
      "332/332 [==============================] - 2s 5ms/step - loss: 0.1654 - acc: 0.9428 - val_loss: 0.3759 - val_acc: 0.8675\n",
      "Epoch 43/150\n",
      "332/332 [==============================] - 1s 4ms/step - loss: 0.2547 - acc: 0.9127 - val_loss: 0.3378 - val_acc: 0.8675\n",
      "Epoch 44/150\n",
      "332/332 [==============================] - 1s 3ms/step - loss: 0.1925 - acc: 0.9307 - val_loss: 0.3522 - val_acc: 0.8675\n",
      "Epoch 45/150\n",
      "332/332 [==============================] - 1s 2ms/step - loss: 0.2057 - acc: 0.9217 - val_loss: 0.3085 - val_acc: 0.9036\n",
      "Epoch 46/150\n",
      "332/332 [==============================] - 1s 4ms/step - loss: 0.1856 - acc: 0.9307 - val_loss: 0.3551 - val_acc: 0.8795\n",
      "Epoch 47/150\n",
      "332/332 [==============================] - 1s 4ms/step - loss: 0.1977 - acc: 0.9337 - val_loss: 0.4686 - val_acc: 0.9036\n",
      "Epoch 48/150\n",
      "332/332 [==============================] - 2s 5ms/step - loss: 0.1684 - acc: 0.9307 - val_loss: 0.3262 - val_acc: 0.9157\n",
      "Epoch 49/150\n",
      "332/332 [==============================] - 1s 4ms/step - loss: 0.1564 - acc: 0.9458 - val_loss: 0.3144 - val_acc: 0.8916\n",
      "Epoch 50/150\n",
      "332/332 [==============================] - 1s 4ms/step - loss: 0.2517 - acc: 0.9066 - val_loss: 0.3294 - val_acc: 0.9036\n",
      "Epoch 51/150\n",
      "332/332 [==============================] - 1s 4ms/step - loss: 0.2023 - acc: 0.9367 - val_loss: 0.3221 - val_acc: 0.9036\n",
      "Epoch 52/150\n",
      "332/332 [==============================] - 1s 4ms/step - loss: 0.2064 - acc: 0.9247 - val_loss: 0.4238 - val_acc: 0.8916\n",
      "Epoch 53/150\n",
      "332/332 [==============================] - 1s 4ms/step - loss: 0.2447 - acc: 0.8976 - val_loss: 0.3273 - val_acc: 0.8795\n",
      "Epoch 54/150\n",
      "332/332 [==============================] - 1s 4ms/step - loss: 0.1958 - acc: 0.9307 - val_loss: 0.4244 - val_acc: 0.8795\n",
      "Epoch 55/150\n",
      "332/332 [==============================] - 1s 4ms/step - loss: 0.2357 - acc: 0.9187 - val_loss: 0.3022 - val_acc: 0.9036\n",
      "Epoch 56/150\n",
      "332/332 [==============================] - 1s 3ms/step - loss: 0.2119 - acc: 0.9277 - val_loss: 0.3525 - val_acc: 0.8795\n",
      "Epoch 57/150\n",
      "332/332 [==============================] - 1s 4ms/step - loss: 0.2002 - acc: 0.9217 - val_loss: 0.2999 - val_acc: 0.9036\n",
      "Epoch 58/150\n",
      "332/332 [==============================] - 1s 4ms/step - loss: 0.1903 - acc: 0.9247 - val_loss: 0.5768 - val_acc: 0.7831\n",
      "Epoch 59/150\n",
      "332/332 [==============================] - 2s 5ms/step - loss: 0.2265 - acc: 0.9307 - val_loss: 0.3648 - val_acc: 0.8795\n",
      "Epoch 60/150\n",
      "332/332 [==============================] - 2s 5ms/step - loss: 0.2261 - acc: 0.9157 - val_loss: 0.4468 - val_acc: 0.8554\n",
      "Epoch 61/150\n",
      "332/332 [==============================] - 2s 6ms/step - loss: 0.2368 - acc: 0.9187 - val_loss: 0.4865 - val_acc: 0.8554\n"
     ]
    },
    {
     "name": "stdout",
     "output_type": "stream",
     "text": [
      "Epoch 62/150\n",
      "332/332 [==============================] - 2s 5ms/step - loss: 0.2156 - acc: 0.9307 - val_loss: 0.3699 - val_acc: 0.8795\n",
      "Epoch 63/150\n",
      "332/332 [==============================] - 2s 5ms/step - loss: 0.2296 - acc: 0.9157 - val_loss: 0.3271 - val_acc: 0.8795\n",
      "Epoch 64/150\n",
      "332/332 [==============================] - 2s 6ms/step - loss: 0.1520 - acc: 0.9518 - val_loss: 0.4509 - val_acc: 0.8916\n",
      "Epoch 65/150\n",
      "332/332 [==============================] - 2s 6ms/step - loss: 0.2277 - acc: 0.9096 - val_loss: 0.3674 - val_acc: 0.8795\n",
      "Epoch 66/150\n",
      "332/332 [==============================] - 2s 6ms/step - loss: 0.1881 - acc: 0.9398 - val_loss: 0.3743 - val_acc: 0.8916\n",
      "Epoch 67/150\n",
      "332/332 [==============================] - 2s 6ms/step - loss: 0.1486 - acc: 0.9578 - val_loss: 0.2881 - val_acc: 0.8916\n",
      "Epoch 68/150\n",
      "332/332 [==============================] - 2s 5ms/step - loss: 0.2039 - acc: 0.9458 - val_loss: 0.3124 - val_acc: 0.8795\n",
      "Epoch 69/150\n",
      "332/332 [==============================] - 2s 5ms/step - loss: 0.1815 - acc: 0.9428 - val_loss: 0.3206 - val_acc: 0.9036\n",
      "Epoch 70/150\n",
      "332/332 [==============================] - 2s 5ms/step - loss: 0.1810 - acc: 0.9428 - val_loss: 0.2958 - val_acc: 0.9036\n",
      "Epoch 71/150\n",
      "332/332 [==============================] - 2s 6ms/step - loss: 0.1628 - acc: 0.9367 - val_loss: 0.2897 - val_acc: 0.9157\n",
      "Epoch 72/150\n",
      "332/332 [==============================] - 2s 5ms/step - loss: 0.1891 - acc: 0.9488 - val_loss: 0.3975 - val_acc: 0.8434\n",
      "Epoch 73/150\n",
      "332/332 [==============================] - 2s 6ms/step - loss: 0.2029 - acc: 0.9367 - val_loss: 0.3770 - val_acc: 0.8675\n",
      "Epoch 74/150\n",
      "332/332 [==============================] - 2s 6ms/step - loss: 0.2962 - acc: 0.8946 - val_loss: 0.3944 - val_acc: 0.9036\n",
      "Epoch 75/150\n",
      "332/332 [==============================] - 2s 6ms/step - loss: 0.1980 - acc: 0.9458 - val_loss: 0.3437 - val_acc: 0.9036\n",
      "Epoch 76/150\n",
      "332/332 [==============================] - 2s 6ms/step - loss: 0.2273 - acc: 0.9187 - val_loss: 0.2869 - val_acc: 0.9036\n",
      "Epoch 77/150\n",
      "332/332 [==============================] - 2s 6ms/step - loss: 0.2047 - acc: 0.9247 - val_loss: 0.3364 - val_acc: 0.9036\n",
      "Epoch 78/150\n",
      "332/332 [==============================] - 2s 6ms/step - loss: 0.2077 - acc: 0.9217 - val_loss: 0.3478 - val_acc: 0.8795\n",
      "Epoch 79/150\n",
      "332/332 [==============================] - 2s 5ms/step - loss: 0.1922 - acc: 0.9337 - val_loss: 0.3093 - val_acc: 0.8795\n",
      "Epoch 80/150\n",
      "332/332 [==============================] - 2s 5ms/step - loss: 0.2267 - acc: 0.9277 - val_loss: 0.3653 - val_acc: 0.8554\n",
      "Epoch 81/150\n",
      "332/332 [==============================] - 2s 6ms/step - loss: 0.1856 - acc: 0.9277 - val_loss: 0.3598 - val_acc: 0.8795\n",
      "Epoch 82/150\n",
      "332/332 [==============================] - 2s 5ms/step - loss: 0.1727 - acc: 0.9458 - val_loss: 0.3253 - val_acc: 0.8675\n",
      "Epoch 83/150\n",
      "332/332 [==============================] - 2s 5ms/step - loss: 0.2168 - acc: 0.9307 - val_loss: 0.3699 - val_acc: 0.8554\n",
      "Epoch 84/150\n",
      "332/332 [==============================] - 2s 6ms/step - loss: 0.1845 - acc: 0.9217 - val_loss: 0.2832 - val_acc: 0.8916\n",
      "Epoch 85/150\n",
      "332/332 [==============================] - 2s 6ms/step - loss: 0.1936 - acc: 0.9337 - val_loss: 0.2836 - val_acc: 0.8916\n",
      "Epoch 86/150\n",
      "332/332 [==============================] - 1s 4ms/step - loss: 0.1545 - acc: 0.9548 - val_loss: 0.2890 - val_acc: 0.8675\n",
      "Epoch 87/150\n",
      "332/332 [==============================] - 2s 5ms/step - loss: 0.2001 - acc: 0.9458 - val_loss: 0.3774 - val_acc: 0.8554\n",
      "Epoch 88/150\n",
      "332/332 [==============================] - 1s 4ms/step - loss: 0.2019 - acc: 0.9337 - val_loss: 0.3874 - val_acc: 0.8916\n",
      "Epoch 89/150\n",
      "332/332 [==============================] - 2s 5ms/step - loss: 0.2014 - acc: 0.9367 - val_loss: 0.4771 - val_acc: 0.8795\n",
      "Epoch 90/150\n",
      "332/332 [==============================] - 2s 5ms/step - loss: 0.1549 - acc: 0.9488 - val_loss: 0.3475 - val_acc: 0.8916\n",
      "Epoch 91/150\n",
      "332/332 [==============================] - 1s 4ms/step - loss: 0.1566 - acc: 0.9488 - val_loss: 0.3856 - val_acc: 0.8795\n",
      "Epoch 92/150\n",
      "332/332 [==============================] - 2s 5ms/step - loss: 0.1553 - acc: 0.9608 - val_loss: 0.2929 - val_acc: 0.9036\n",
      "Epoch 93/150\n",
      "332/332 [==============================] - 1s 3ms/step - loss: 0.1331 - acc: 0.9518 - val_loss: 0.3458 - val_acc: 0.8916\n",
      "Epoch 94/150\n",
      "332/332 [==============================] - 2s 5ms/step - loss: 0.1711 - acc: 0.9367 - val_loss: 0.2656 - val_acc: 0.9157\n",
      "Epoch 95/150\n",
      "332/332 [==============================] - 1s 4ms/step - loss: 0.1948 - acc: 0.9247 - val_loss: 0.3255 - val_acc: 0.9036\n",
      "Epoch 96/150\n",
      "332/332 [==============================] - 2s 6ms/step - loss: 0.1771 - acc: 0.9277 - val_loss: 0.3015 - val_acc: 0.8916\n",
      "Epoch 97/150\n",
      "332/332 [==============================] - 2s 5ms/step - loss: 0.1876 - acc: 0.9307 - val_loss: 0.3128 - val_acc: 0.8675\n",
      "Epoch 98/150\n",
      "332/332 [==============================] - 2s 5ms/step - loss: 0.1825 - acc: 0.9277 - val_loss: 0.3540 - val_acc: 0.8916\n",
      "Epoch 99/150\n",
      "332/332 [==============================] - 2s 5ms/step - loss: 0.1932 - acc: 0.9307 - val_loss: 0.3254 - val_acc: 0.9036\n",
      "Epoch 100/150\n",
      "332/332 [==============================] - 2s 5ms/step - loss: 0.1462 - acc: 0.9367 - val_loss: 0.3176 - val_acc: 0.9036\n",
      "Epoch 101/150\n",
      "332/332 [==============================] - 2s 5ms/step - loss: 0.1629 - acc: 0.9428 - val_loss: 0.3077 - val_acc: 0.9036\n",
      "Epoch 102/150\n",
      "332/332 [==============================] - 2s 6ms/step - loss: 0.1723 - acc: 0.9337 - val_loss: 0.4190 - val_acc: 0.8795\n",
      "Epoch 103/150\n",
      "332/332 [==============================] - 1s 4ms/step - loss: 0.2226 - acc: 0.9157 - val_loss: 0.3256 - val_acc: 0.9036\n",
      "Epoch 104/150\n",
      "332/332 [==============================] - 1s 4ms/step - loss: 0.1251 - acc: 0.9608 - val_loss: 0.4533 - val_acc: 0.8795\n",
      "Epoch 105/150\n",
      "332/332 [==============================] - 1s 4ms/step - loss: 0.1983 - acc: 0.9307 - val_loss: 0.3340 - val_acc: 0.9036\n",
      "Epoch 106/150\n",
      "332/332 [==============================] - 1s 4ms/step - loss: 0.1927 - acc: 0.9428 - val_loss: 0.3300 - val_acc: 0.8916\n",
      "Epoch 107/150\n",
      "332/332 [==============================] - 1s 4ms/step - loss: 0.1241 - acc: 0.9639 - val_loss: 0.4276 - val_acc: 0.8916\n",
      "Epoch 108/150\n",
      "332/332 [==============================] - 1s 4ms/step - loss: 0.2290 - acc: 0.9277 - val_loss: 0.3073 - val_acc: 0.9036\n",
      "Epoch 109/150\n",
      "332/332 [==============================] - 2s 5ms/step - loss: 0.1918 - acc: 0.9337 - val_loss: 0.3461 - val_acc: 0.8675\n",
      "Epoch 110/150\n",
      "332/332 [==============================] - 2s 5ms/step - loss: 0.1530 - acc: 0.9367 - val_loss: 0.3548 - val_acc: 0.8916\n",
      "Epoch 111/150\n",
      "332/332 [==============================] - 2s 6ms/step - loss: 0.2498 - acc: 0.9217 - val_loss: 0.3796 - val_acc: 0.8916\n",
      "Epoch 112/150\n",
      "332/332 [==============================] - 2s 6ms/step - loss: 0.1677 - acc: 0.9428 - val_loss: 0.3641 - val_acc: 0.8675\n",
      "Epoch 113/150\n",
      "332/332 [==============================] - 2s 5ms/step - loss: 0.1556 - acc: 0.9639 - val_loss: 0.4500 - val_acc: 0.8916\n",
      "Epoch 114/150\n",
      "332/332 [==============================] - 2s 5ms/step - loss: 0.1591 - acc: 0.9488 - val_loss: 0.4916 - val_acc: 0.8554\n",
      "Epoch 115/150\n",
      "332/332 [==============================] - 2s 6ms/step - loss: 0.2284 - acc: 0.9428 - val_loss: 0.3874 - val_acc: 0.9036\n",
      "Epoch 116/150\n",
      "332/332 [==============================] - 2s 6ms/step - loss: 0.1924 - acc: 0.9367 - val_loss: 0.3312 - val_acc: 0.9036\n",
      "Epoch 117/150\n",
      "332/332 [==============================] - 2s 6ms/step - loss: 0.2045 - acc: 0.9367 - val_loss: 0.3514 - val_acc: 0.9036\n",
      "Epoch 118/150\n",
      "332/332 [==============================] - 2s 6ms/step - loss: 0.2024 - acc: 0.9307 - val_loss: 0.4423 - val_acc: 0.9036\n",
      "Epoch 119/150\n",
      "332/332 [==============================] - 2s 6ms/step - loss: 0.1951 - acc: 0.9398 - val_loss: 0.4525 - val_acc: 0.8916\n",
      "Epoch 120/150\n",
      "332/332 [==============================] - 2s 5ms/step - loss: 0.2272 - acc: 0.9247 - val_loss: 0.3304 - val_acc: 0.8916\n",
      "Epoch 121/150\n",
      "332/332 [==============================] - 2s 5ms/step - loss: 0.1340 - acc: 0.9699 - val_loss: 0.3634 - val_acc: 0.9157\n",
      "Epoch 122/150\n",
      "332/332 [==============================] - 1s 4ms/step - loss: 0.1670 - acc: 0.9398 - val_loss: 0.3633 - val_acc: 0.8675\n"
     ]
    },
    {
     "name": "stdout",
     "output_type": "stream",
     "text": [
      "Epoch 123/150\n",
      "332/332 [==============================] - 1s 4ms/step - loss: 0.2097 - acc: 0.9398 - val_loss: 0.3036 - val_acc: 0.8916\n",
      "Epoch 124/150\n",
      "332/332 [==============================] - 2s 5ms/step - loss: 0.1569 - acc: 0.9428 - val_loss: 0.3704 - val_acc: 0.8916\n",
      "Epoch 125/150\n",
      "332/332 [==============================] - 2s 5ms/step - loss: 0.1929 - acc: 0.9307 - val_loss: 0.2744 - val_acc: 0.9157\n",
      "Epoch 126/150\n",
      "332/332 [==============================] - 2s 6ms/step - loss: 0.1810 - acc: 0.9367 - val_loss: 0.3186 - val_acc: 0.8795\n",
      "Epoch 127/150\n",
      "332/332 [==============================] - 1s 4ms/step - loss: 0.2420 - acc: 0.9187 - val_loss: 0.3539 - val_acc: 0.8675\n",
      "Epoch 128/150\n",
      "332/332 [==============================] - 2s 5ms/step - loss: 0.2327 - acc: 0.9217 - val_loss: 0.3065 - val_acc: 0.9036\n",
      "Epoch 129/150\n",
      "332/332 [==============================] - 2s 6ms/step - loss: 0.2411 - acc: 0.9066 - val_loss: 0.3927 - val_acc: 0.8916\n",
      "Epoch 130/150\n",
      "332/332 [==============================] - 2s 5ms/step - loss: 0.1687 - acc: 0.9367 - val_loss: 0.4461 - val_acc: 0.8795\n",
      "Epoch 131/150\n",
      "332/332 [==============================] - 2s 6ms/step - loss: 0.2250 - acc: 0.9157 - val_loss: 0.3851 - val_acc: 0.8795\n",
      "Epoch 132/150\n",
      "332/332 [==============================] - 2s 6ms/step - loss: 0.2170 - acc: 0.9307 - val_loss: 0.4352 - val_acc: 0.8554\n",
      "Epoch 133/150\n",
      "332/332 [==============================] - 2s 5ms/step - loss: 0.2303 - acc: 0.9036 - val_loss: 0.3184 - val_acc: 0.8795\n",
      "Epoch 134/150\n",
      "332/332 [==============================] - 2s 5ms/step - loss: 0.1902 - acc: 0.9307 - val_loss: 0.4875 - val_acc: 0.8795\n",
      "Epoch 135/150\n",
      "332/332 [==============================] - 2s 5ms/step - loss: 0.1699 - acc: 0.9488 - val_loss: 0.3456 - val_acc: 0.8554\n",
      "Epoch 136/150\n",
      "332/332 [==============================] - 1s 4ms/step - loss: 0.1492 - acc: 0.9488 - val_loss: 0.3993 - val_acc: 0.8795\n",
      "Epoch 137/150\n",
      "332/332 [==============================] - 1s 4ms/step - loss: 0.1497 - acc: 0.9458 - val_loss: 0.3921 - val_acc: 0.9157\n",
      "Epoch 138/150\n",
      "332/332 [==============================] - 1s 3ms/step - loss: 0.1427 - acc: 0.9548 - val_loss: 0.4925 - val_acc: 0.8675\n",
      "Epoch 139/150\n",
      "332/332 [==============================] - 1s 3ms/step - loss: 0.1971 - acc: 0.9307 - val_loss: 0.3547 - val_acc: 0.8916\n",
      "Epoch 140/150\n",
      "332/332 [==============================] - 1s 4ms/step - loss: 0.1365 - acc: 0.9518 - val_loss: 0.5168 - val_acc: 0.8795\n",
      "Epoch 141/150\n",
      "332/332 [==============================] - 1s 4ms/step - loss: 0.2424 - acc: 0.9247 - val_loss: 0.3225 - val_acc: 0.9036\n",
      "Epoch 142/150\n",
      "332/332 [==============================] - 2s 6ms/step - loss: 0.1749 - acc: 0.9367 - val_loss: 0.4124 - val_acc: 0.8916\n",
      "Epoch 143/150\n",
      "332/332 [==============================] - 2s 6ms/step - loss: 0.1684 - acc: 0.9518 - val_loss: 0.4990 - val_acc: 0.8675\n",
      "Epoch 144/150\n",
      "332/332 [==============================] - 2s 6ms/step - loss: 0.2158 - acc: 0.9398 - val_loss: 0.3723 - val_acc: 0.8554\n",
      "Epoch 145/150\n",
      "332/332 [==============================] - 1s 3ms/step - loss: 0.2163 - acc: 0.9187 - val_loss: 0.4047 - val_acc: 0.9036\n",
      "Epoch 146/150\n",
      "332/332 [==============================] - 1s 3ms/step - loss: 0.1441 - acc: 0.9578 - val_loss: 0.3342 - val_acc: 0.8916\n",
      "Epoch 147/150\n",
      "332/332 [==============================] - 1s 3ms/step - loss: 0.1908 - acc: 0.9337 - val_loss: 0.3925 - val_acc: 0.8795\n",
      "Epoch 148/150\n",
      "332/332 [==============================] - 1s 3ms/step - loss: 0.2107 - acc: 0.9367 - val_loss: 0.4992 - val_acc: 0.8916\n",
      "Epoch 149/150\n",
      "332/332 [==============================] - 1s 3ms/step - loss: 0.1555 - acc: 0.9398 - val_loss: 0.3369 - val_acc: 0.8916\n",
      "Epoch 150/150\n",
      "332/332 [==============================] - 1s 3ms/step - loss: 0.1909 - acc: 0.9307 - val_loss: 0.3996 - val_acc: 0.9157\n"
     ]
    }
   ],
   "source": [
    "model.compile(loss=keras.losses.categorical_crossentropy,\n",
    "              optimizer=keras.optimizers.Adadelta(),\n",
    "              metrics=['accuracy'])\n",
    "\n",
    "history = model.fit(X_train, Y_train, \n",
    "                    batch_size=batch_size, \n",
    "                    epochs=epochs, \n",
    "                    verbose=1, \n",
    "                    validation_data=(X_test, Y_test))"
   ]
  },
  {
   "cell_type": "code",
   "execution_count": 64,
   "metadata": {},
   "outputs": [
    {
     "data": {
      "image/png": "[encoded data removed]",
      "text/plain": [
       "<Figure size 432x288 with 1 Axes>"
      ]
     },
     "metadata": {
      "needs_background": "light"
     },
     "output_type": "display_data"
    },
    {
     "data": {
      "image/png": "[encoded data removed]",
      "text/plain": [
       "<Figure size 432x288 with 1 Axes>"
      ]
     },
     "metadata": {
      "needs_background": "light"
     },
     "output_type": "display_data"
    }
   ],
   "source": [
    "print(history.history.keys())\n",
    "\n",
    "# Accuracy\n",
    "plt.plot(history.history['acc'])\n",
    "plt.plot(history.history['val_acc'])\n",
    "plt.title('model accuracy')\n",
    "plt.ylabel('accuracy')\n",
    "plt.xlabel('epoch')\n",
    "plt.legend(['train', 'test'], loc='lower right')\n",
    "plt.show()\n",
    "\n",
    "# Loss\n",
    "plt.plot(history.history['loss'])\n",
    "plt.plot(history.history['val_loss'])\n",
    "plt.title('model loss')\n",
    "plt.ylabel('loss')\n",
    "plt.xlabel('epoch')\n",
    "plt.legend(['train', 'test'], loc='upper right')\n",
    "plt.show()"
   ]
  },
  {
   "cell_type": "code",
   "execution_count": 52,
   "metadata": {},
   "outputs": [
    {
     "name": "stdout",
     "output_type": "stream",
     "text": [
      "83/83 [==============================] - 0s 679us/step\n",
      "Test loss: 0.39956603280032976\n",
      "Test accuracy: 0.9156626470117684\n"
     ]
    }
   ],
   "source": [
    "score = model.evaluate(X_test, Y_test, verbose=1)\n",
    "print('Test loss:', score[0])\n",
    "print('Test accuracy:', score[1])"
   ]
  },
  {
   "cell_type": "code",
   "execution_count": null,
   "metadata": {},
   "outputs": [],
   "source": []
  },
  {
   "cell_type": "code",
   "execution_count": null,
   "metadata": {},
   "outputs": [],
   "source": []
  },
  {
   "cell_type": "markdown",
   "metadata": {},
   "source": [
    "# Train on entire data"
   ]
  },
  {
   "cell_type": "code",
   "execution_count": 65,
   "metadata": {},
   "outputs": [],
   "source": [
    "X_train = np.load(os.path.join(\"..\", \"IPD\", \"x_train.npy\"))\n",
    "X_test = np.load(os.path.join(\"..\", \"IPD\", \"x_test.npy\"))\n",
    "Y_train = np.load(os.path.join(\"..\", \"IPD\", \"y_train.npy\"))\n",
    "Y_test = np.load(os.path.join(\"..\", \"IPD\", \"y_test.npy\"))\n",
    "\n",
    "X_train = np.concatenate((X_train,X_test), axis=0)\n",
    "Y_train = np.concatenate((Y_train,Y_test), axis=0)\n",
    "\n",
    "_ , num_timeframes, num_features = X_train.shape\n",
    "X_train = X_train.reshape((-1,num_timeframes*num_features))\n",
    "from scipy.sparse import coo_matrix\n",
    "X_sparse = coo_matrix(X_train)\n",
    "\n",
    "from sklearn.utils import shuffle\n",
    "X_train, X_sparse, Y_train = shuffle(X_train, X_sparse, Y_train)\n",
    "X_train = X_train.reshape((-1,num_timeframes,num_features))"
   ]
  },
  {
   "cell_type": "code",
   "execution_count": 66,
   "metadata": {},
   "outputs": [
    {
     "name": "stdout",
     "output_type": "stream",
     "text": [
      "Training samples : (415, 250, 12, 1) \n",
      "Testing Samples : (83, 250, 12, 1)\n",
      "Training Labels : (415, 6) \n",
      "Testing Labels : (83, 6)\n"
     ]
    }
   ],
   "source": [
    "X_train = X_train.reshape((-1,num_timeframes,num_features,1))\n",
    "X_test = X_test.reshape((-1,num_timeframes,num_features,1))\n",
    "\n",
    "Y_train = keras.utils.to_categorical(Y_train, 6)\n",
    "Y_test = keras.utils.to_categorical(Y_test, 6)\n",
    "print(\"Training samples : {} \\nTesting Samples : {}\".format(X_train.shape, X_test.shape))\n",
    "print(\"Training Labels : {} \\nTesting Labels : {}\".format(Y_train.shape, Y_test.shape))"
   ]
  },
  {
   "cell_type": "code",
   "execution_count": 67,
   "metadata": {},
   "outputs": [],
   "source": [
    "model.compile(loss=keras.losses.categorical_crossentropy,\n",
    "              optimizer=keras.optimizers.Adadelta(),\n",
    "              metrics=['accuracy'])\n",
    "\n",
    "history = model.fit(X_train, Y_train, \n",
    "                    batch_size=batch_size, \n",
    "                    epochs=epochs+100, \n",
    "                    verbose=0, \n",
    "                    validation_data=(X_test, Y_test))"
   ]
  },
  {
   "cell_type": "markdown",
   "metadata": {},
   "source": [
    "# Saving model"
   ]
  },
  {
   "cell_type": "code",
   "execution_count": 70,
   "metadata": {},
   "outputs": [
    {
     "name": "stdout",
     "output_type": "stream",
     "text": [
      "Model Saved\n"
     ]
    }
   ],
   "source": [
    "weights = model.get_weights()\n",
    "pickle.dump(weights, open(os.path.join(\"..\", \"IPD\", \"CNN_model.pkl\"),\"wb\"))\n",
    "print(\"Model Saved\")"
   ]
  },
  {
   "cell_type": "code",
   "execution_count": null,
   "metadata": {},
   "outputs": [],
   "source": []
  },
  {
   "cell_type": "code",
   "execution_count": null,
   "metadata": {},
   "outputs": [],
   "source": []
  }
 ],
 "metadata": {
  "kernelspec": {
   "display_name": "Python 3",
   "language": "python",
   "name": "python3"
  },
  "language_info": {
   "codemirror_mode": {
    "name": "ipython",
    "version": 3
   },
   "file_extension": ".py",
   "mimetype": "text/x-python",
   "name": "python",
   "nbconvert_exporter": "python",
   "pygments_lexer": "ipython3",
   "version": "3.7.7"
  }
 },
 "nbformat": 4,
 "nbformat_minor": 4
}
