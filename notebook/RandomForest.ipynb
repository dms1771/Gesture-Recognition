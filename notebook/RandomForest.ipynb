{
 "cells": [
  {
   "cell_type": "markdown",
   "metadata": {},
   "source": [
    "# Import Necessary Libraries"
   ]
  },
  {
   "cell_type": "code",
   "execution_count": 1,
   "metadata": {},
   "outputs": [],
   "source": [
    "import numpy as np\n",
    "import pandas as pd\n",
    "import matplotlib.pyplot as plt\n",
    "import random\n",
    "import math\n",
    "import collections\n",
    "import os\n",
    "import json\n",
    "import pickle\n",
    "\n",
    "from sklearn.preprocessing import StandardScaler, MinMaxScaler\n",
    "from sklearn.ensemble import RandomForestClassifier\n",
    "from sklearn.model_selection import GridSearchCV\n",
    "from sklearn.model_selection import train_test_split\n",
    "from sklearn.metrics import classification_report, confusion_matrix\n",
    "\n",
    "import warnings\n",
    "warnings.filterwarnings('ignore')"
   ]
  },
  {
   "cell_type": "markdown",
   "metadata": {},
   "source": [
    "# Load the Train Test Split"
   ]
  },
  {
   "cell_type": "code",
   "execution_count": 2,
   "metadata": {},
   "outputs": [
    {
     "name": "stdout",
     "output_type": "stream",
     "text": [
      "Training samples : (332, 250, 12) \n",
      "Testing Samples : (83, 250, 12)\n",
      "Training Labels : (332,) \n",
      "Testing Labels : (83,)\n"
     ]
    }
   ],
   "source": [
    "X_train = np.load(os.path.join(\"..\", \"IPD\", \"x_train.npy\"))\n",
    "X_test = np.load(os.path.join(\"..\", \"IPD\", \"x_test.npy\"))\n",
    "Y_train = np.load(os.path.join(\"..\", \"IPD\", \"y_train.npy\"))\n",
    "Y_test = np.load(os.path.join(\"..\", \"IPD\", \"y_test.npy\"))\n",
    "print(\"Training samples : {} \\nTesting Samples : {}\".format(X_train.shape, X_test.shape))\n",
    "print(\"Training Labels : {} \\nTesting Labels : {}\".format(Y_train.shape, Y_test.shape))"
   ]
  },
  {
   "cell_type": "code",
   "execution_count": 3,
   "metadata": {},
   "outputs": [],
   "source": [
    "_ , num_timeframes, num_features = X_train.shape"
   ]
  },
  {
   "cell_type": "markdown",
   "metadata": {},
   "source": [
    "# Reshape data for the model\n",
    "-----------------\n",
    "Samples are a 2D matrix which need to be reshaped to 1D to feed into the model"
   ]
  },
  {
   "cell_type": "code",
   "execution_count": 4,
   "metadata": {},
   "outputs": [
    {
     "name": "stdout",
     "output_type": "stream",
     "text": [
      "Training samples : (332, 3000) \n",
      "Testing Samples : (83, 3000)\n",
      "Training Labels : (332,) \n",
      "Testing Labels : (83,)\n"
     ]
    }
   ],
   "source": [
    "X_train = X_train.reshape((-1,num_timeframes*num_features))\n",
    "X_test = X_test.reshape((-1,num_timeframes*num_features))\n",
    "print(\"Training samples : {} \\nTesting Samples : {}\".format(X_train.shape, X_test.shape))\n",
    "print(\"Training Labels : {} \\nTesting Labels : {}\".format(Y_train.shape, Y_test.shape))"
   ]
  },
  {
   "cell_type": "markdown",
   "metadata": {},
   "source": [
    "# Grid search over Random Forest model"
   ]
  },
  {
   "cell_type": "code",
   "execution_count": 13,
   "metadata": {},
   "outputs": [
    {
     "name": "stdout",
     "output_type": "stream",
     "text": [
      "Fitting 3 folds for each of 27 candidates, totalling 81 fits\n",
      "[CV] bootstrap=False, max_depth=12, max_features=sqrt, n_estimators=16, oob_score=False \n",
      "[CV]  bootstrap=False, max_depth=12, max_features=sqrt, n_estimators=16, oob_score=False, total=   0.1s\n",
      "[CV] bootstrap=False, max_depth=12, max_features=sqrt, n_estimators=16, oob_score=False \n"
     ]
    },
    {
     "name": "stderr",
     "output_type": "stream",
     "text": [
      "[Parallel(n_jobs=1)]: Using backend SequentialBackend with 1 concurrent workers.\n",
      "[Parallel(n_jobs=1)]: Done   1 out of   1 | elapsed:    0.1s remaining:    0.0s\n"
     ]
    },
    {
     "name": "stdout",
     "output_type": "stream",
     "text": [
      "[CV]  bootstrap=False, max_depth=12, max_features=sqrt, n_estimators=16, oob_score=False, total=   0.2s\n",
      "[CV] bootstrap=False, max_depth=12, max_features=sqrt, n_estimators=16, oob_score=False \n",
      "[CV]  bootstrap=False, max_depth=12, max_features=sqrt, n_estimators=16, oob_score=False, total=   0.1s\n",
      "[CV] bootstrap=False, max_depth=12, max_features=sqrt, n_estimators=18, oob_score=False \n",
      "[CV]  bootstrap=False, max_depth=12, max_features=sqrt, n_estimators=18, oob_score=False, total=   0.1s\n",
      "[CV] bootstrap=False, max_depth=12, max_features=sqrt, n_estimators=18, oob_score=False \n",
      "[CV]  bootstrap=False, max_depth=12, max_features=sqrt, n_estimators=18, oob_score=False, total=   0.2s\n",
      "[CV] bootstrap=False, max_depth=12, max_features=sqrt, n_estimators=18, oob_score=False \n",
      "[CV]  bootstrap=False, max_depth=12, max_features=sqrt, n_estimators=18, oob_score=False, total=   0.2s\n",
      "[CV] bootstrap=False, max_depth=12, max_features=sqrt, n_estimators=20, oob_score=False \n",
      "[CV]  bootstrap=False, max_depth=12, max_features=sqrt, n_estimators=20, oob_score=False, total=   0.2s\n",
      "[CV] bootstrap=False, max_depth=12, max_features=sqrt, n_estimators=20, oob_score=False \n",
      "[CV]  bootstrap=False, max_depth=12, max_features=sqrt, n_estimators=20, oob_score=False, total=   0.2s\n",
      "[CV] bootstrap=False, max_depth=12, max_features=sqrt, n_estimators=20, oob_score=False \n",
      "[CV]  bootstrap=False, max_depth=12, max_features=sqrt, n_estimators=20, oob_score=False, total=   0.2s\n",
      "[CV] bootstrap=False, max_depth=12, max_features=log2, n_estimators=16, oob_score=False \n",
      "[CV]  bootstrap=False, max_depth=12, max_features=log2, n_estimators=16, oob_score=False, total=   0.1s\n",
      "[CV] bootstrap=False, max_depth=12, max_features=log2, n_estimators=16, oob_score=False \n",
      "[CV]  bootstrap=False, max_depth=12, max_features=log2, n_estimators=16, oob_score=False, total=   0.1s\n",
      "[CV] bootstrap=False, max_depth=12, max_features=log2, n_estimators=16, oob_score=False \n",
      "[CV]  bootstrap=False, max_depth=12, max_features=log2, n_estimators=16, oob_score=False, total=   0.1s\n",
      "[CV] bootstrap=False, max_depth=12, max_features=log2, n_estimators=18, oob_score=False \n",
      "[CV]  bootstrap=False, max_depth=12, max_features=log2, n_estimators=18, oob_score=False, total=   0.1s\n",
      "[CV] bootstrap=False, max_depth=12, max_features=log2, n_estimators=18, oob_score=False \n",
      "[CV]  bootstrap=False, max_depth=12, max_features=log2, n_estimators=18, oob_score=False, total=   0.1s\n",
      "[CV] bootstrap=False, max_depth=12, max_features=log2, n_estimators=18, oob_score=False \n",
      "[CV]  bootstrap=False, max_depth=12, max_features=log2, n_estimators=18, oob_score=False, total=   0.1s\n",
      "[CV] bootstrap=False, max_depth=12, max_features=log2, n_estimators=20, oob_score=False \n",
      "[CV]  bootstrap=False, max_depth=12, max_features=log2, n_estimators=20, oob_score=False, total=   0.1s\n",
      "[CV] bootstrap=False, max_depth=12, max_features=log2, n_estimators=20, oob_score=False \n",
      "[CV]  bootstrap=False, max_depth=12, max_features=log2, n_estimators=20, oob_score=False, total=   0.1s\n",
      "[CV] bootstrap=False, max_depth=12, max_features=log2, n_estimators=20, oob_score=False \n",
      "[CV]  bootstrap=False, max_depth=12, max_features=log2, n_estimators=20, oob_score=False, total=   0.1s\n",
      "[CV] bootstrap=False, max_depth=12, max_features=None, n_estimators=16, oob_score=False \n",
      "[CV]  bootstrap=False, max_depth=12, max_features=None, n_estimators=16, oob_score=False, total=   4.6s\n",
      "[CV] bootstrap=False, max_depth=12, max_features=None, n_estimators=16, oob_score=False \n",
      "[CV]  bootstrap=False, max_depth=12, max_features=None, n_estimators=16, oob_score=False, total=   4.6s\n",
      "[CV] bootstrap=False, max_depth=12, max_features=None, n_estimators=16, oob_score=False \n",
      "[CV]  bootstrap=False, max_depth=12, max_features=None, n_estimators=16, oob_score=False, total=   4.3s\n",
      "[CV] bootstrap=False, max_depth=12, max_features=None, n_estimators=18, oob_score=False \n",
      "[CV]  bootstrap=False, max_depth=12, max_features=None, n_estimators=18, oob_score=False, total=   5.5s\n",
      "[CV] bootstrap=False, max_depth=12, max_features=None, n_estimators=18, oob_score=False \n",
      "[CV]  bootstrap=False, max_depth=12, max_features=None, n_estimators=18, oob_score=False, total=   5.0s\n",
      "[CV] bootstrap=False, max_depth=12, max_features=None, n_estimators=18, oob_score=False \n",
      "[CV]  bootstrap=False, max_depth=12, max_features=None, n_estimators=18, oob_score=False, total=   5.0s\n",
      "[CV] bootstrap=False, max_depth=12, max_features=None, n_estimators=20, oob_score=False \n",
      "[CV]  bootstrap=False, max_depth=12, max_features=None, n_estimators=20, oob_score=False, total=   5.8s\n",
      "[CV] bootstrap=False, max_depth=12, max_features=None, n_estimators=20, oob_score=False \n",
      "[CV]  bootstrap=False, max_depth=12, max_features=None, n_estimators=20, oob_score=False, total=   5.6s\n",
      "[CV] bootstrap=False, max_depth=12, max_features=None, n_estimators=20, oob_score=False \n",
      "[CV]  bootstrap=False, max_depth=12, max_features=None, n_estimators=20, oob_score=False, total=   5.2s\n",
      "[CV] bootstrap=False, max_depth=14, max_features=sqrt, n_estimators=16, oob_score=False \n",
      "[CV]  bootstrap=False, max_depth=14, max_features=sqrt, n_estimators=16, oob_score=False, total=   0.1s\n",
      "[CV] bootstrap=False, max_depth=14, max_features=sqrt, n_estimators=16, oob_score=False \n",
      "[CV]  bootstrap=False, max_depth=14, max_features=sqrt, n_estimators=16, oob_score=False, total=   0.1s\n",
      "[CV] bootstrap=False, max_depth=14, max_features=sqrt, n_estimators=16, oob_score=False \n",
      "[CV]  bootstrap=False, max_depth=14, max_features=sqrt, n_estimators=16, oob_score=False, total=   0.1s\n",
      "[CV] bootstrap=False, max_depth=14, max_features=sqrt, n_estimators=18, oob_score=False \n",
      "[CV]  bootstrap=False, max_depth=14, max_features=sqrt, n_estimators=18, oob_score=False, total=   0.2s\n",
      "[CV] bootstrap=False, max_depth=14, max_features=sqrt, n_estimators=18, oob_score=False \n",
      "[CV]  bootstrap=False, max_depth=14, max_features=sqrt, n_estimators=18, oob_score=False, total=   0.2s\n",
      "[CV] bootstrap=False, max_depth=14, max_features=sqrt, n_estimators=18, oob_score=False \n",
      "[CV]  bootstrap=False, max_depth=14, max_features=sqrt, n_estimators=18, oob_score=False, total=   0.1s\n",
      "[CV] bootstrap=False, max_depth=14, max_features=sqrt, n_estimators=20, oob_score=False \n",
      "[CV]  bootstrap=False, max_depth=14, max_features=sqrt, n_estimators=20, oob_score=False, total=   0.2s\n",
      "[CV] bootstrap=False, max_depth=14, max_features=sqrt, n_estimators=20, oob_score=False \n",
      "[CV]  bootstrap=False, max_depth=14, max_features=sqrt, n_estimators=20, oob_score=False, total=   0.2s\n",
      "[CV] bootstrap=False, max_depth=14, max_features=sqrt, n_estimators=20, oob_score=False \n",
      "[CV]  bootstrap=False, max_depth=14, max_features=sqrt, n_estimators=20, oob_score=False, total=   0.2s\n",
      "[CV] bootstrap=False, max_depth=14, max_features=log2, n_estimators=16, oob_score=False \n",
      "[CV]  bootstrap=False, max_depth=14, max_features=log2, n_estimators=16, oob_score=False, total=   0.1s\n",
      "[CV] bootstrap=False, max_depth=14, max_features=log2, n_estimators=16, oob_score=False \n",
      "[CV]  bootstrap=False, max_depth=14, max_features=log2, n_estimators=16, oob_score=False, total=   0.1s\n",
      "[CV] bootstrap=False, max_depth=14, max_features=log2, n_estimators=16, oob_score=False \n",
      "[CV]  bootstrap=False, max_depth=14, max_features=log2, n_estimators=16, oob_score=False, total=   0.1s\n",
      "[CV] bootstrap=False, max_depth=14, max_features=log2, n_estimators=18, oob_score=False \n",
      "[CV]  bootstrap=False, max_depth=14, max_features=log2, n_estimators=18, oob_score=False, total=   0.1s\n",
      "[CV] bootstrap=False, max_depth=14, max_features=log2, n_estimators=18, oob_score=False \n",
      "[CV]  bootstrap=False, max_depth=14, max_features=log2, n_estimators=18, oob_score=False, total=   0.1s\n",
      "[CV] bootstrap=False, max_depth=14, max_features=log2, n_estimators=18, oob_score=False \n",
      "[CV]  bootstrap=False, max_depth=14, max_features=log2, n_estimators=18, oob_score=False, total=   0.1s\n",
      "[CV] bootstrap=False, max_depth=14, max_features=log2, n_estimators=20, oob_score=False \n",
      "[CV]  bootstrap=False, max_depth=14, max_features=log2, n_estimators=20, oob_score=False, total=   0.1s\n",
      "[CV] bootstrap=False, max_depth=14, max_features=log2, n_estimators=20, oob_score=False \n",
      "[CV]  bootstrap=False, max_depth=14, max_features=log2, n_estimators=20, oob_score=False, total=   0.1s\n",
      "[CV] bootstrap=False, max_depth=14, max_features=log2, n_estimators=20, oob_score=False \n",
      "[CV]  bootstrap=False, max_depth=14, max_features=log2, n_estimators=20, oob_score=False, total=   0.1s\n",
      "[CV] bootstrap=False, max_depth=14, max_features=None, n_estimators=16, oob_score=False \n"
     ]
    },
    {
     "name": "stdout",
     "output_type": "stream",
     "text": [
      "[CV]  bootstrap=False, max_depth=14, max_features=None, n_estimators=16, oob_score=False, total=   5.0s\n",
      "[CV] bootstrap=False, max_depth=14, max_features=None, n_estimators=16, oob_score=False \n",
      "[CV]  bootstrap=False, max_depth=14, max_features=None, n_estimators=16, oob_score=False, total=   4.7s\n",
      "[CV] bootstrap=False, max_depth=14, max_features=None, n_estimators=16, oob_score=False \n",
      "[CV]  bootstrap=False, max_depth=14, max_features=None, n_estimators=16, oob_score=False, total=   4.5s\n",
      "[CV] bootstrap=False, max_depth=14, max_features=None, n_estimators=18, oob_score=False \n",
      "[CV]  bootstrap=False, max_depth=14, max_features=None, n_estimators=18, oob_score=False, total=   5.6s\n",
      "[CV] bootstrap=False, max_depth=14, max_features=None, n_estimators=18, oob_score=False \n",
      "[CV]  bootstrap=False, max_depth=14, max_features=None, n_estimators=18, oob_score=False, total=   5.4s\n",
      "[CV] bootstrap=False, max_depth=14, max_features=None, n_estimators=18, oob_score=False \n",
      "[CV]  bootstrap=False, max_depth=14, max_features=None, n_estimators=18, oob_score=False, total=   5.0s\n",
      "[CV] bootstrap=False, max_depth=14, max_features=None, n_estimators=20, oob_score=False \n",
      "[CV]  bootstrap=False, max_depth=14, max_features=None, n_estimators=20, oob_score=False, total=   6.3s\n",
      "[CV] bootstrap=False, max_depth=14, max_features=None, n_estimators=20, oob_score=False \n",
      "[CV]  bootstrap=False, max_depth=14, max_features=None, n_estimators=20, oob_score=False, total=   5.9s\n",
      "[CV] bootstrap=False, max_depth=14, max_features=None, n_estimators=20, oob_score=False \n",
      "[CV]  bootstrap=False, max_depth=14, max_features=None, n_estimators=20, oob_score=False, total=   5.6s\n",
      "[CV] bootstrap=False, max_depth=16, max_features=sqrt, n_estimators=16, oob_score=False \n",
      "[CV]  bootstrap=False, max_depth=16, max_features=sqrt, n_estimators=16, oob_score=False, total=   0.1s\n",
      "[CV] bootstrap=False, max_depth=16, max_features=sqrt, n_estimators=16, oob_score=False \n",
      "[CV]  bootstrap=False, max_depth=16, max_features=sqrt, n_estimators=16, oob_score=False, total=   0.1s\n",
      "[CV] bootstrap=False, max_depth=16, max_features=sqrt, n_estimators=16, oob_score=False \n",
      "[CV]  bootstrap=False, max_depth=16, max_features=sqrt, n_estimators=16, oob_score=False, total=   0.1s\n",
      "[CV] bootstrap=False, max_depth=16, max_features=sqrt, n_estimators=18, oob_score=False \n",
      "[CV]  bootstrap=False, max_depth=16, max_features=sqrt, n_estimators=18, oob_score=False, total=   0.2s\n",
      "[CV] bootstrap=False, max_depth=16, max_features=sqrt, n_estimators=18, oob_score=False \n",
      "[CV]  bootstrap=False, max_depth=16, max_features=sqrt, n_estimators=18, oob_score=False, total=   0.1s\n",
      "[CV] bootstrap=False, max_depth=16, max_features=sqrt, n_estimators=18, oob_score=False \n",
      "[CV]  bootstrap=False, max_depth=16, max_features=sqrt, n_estimators=18, oob_score=False, total=   0.2s\n",
      "[CV] bootstrap=False, max_depth=16, max_features=sqrt, n_estimators=20, oob_score=False \n",
      "[CV]  bootstrap=False, max_depth=16, max_features=sqrt, n_estimators=20, oob_score=False, total=   0.2s\n",
      "[CV] bootstrap=False, max_depth=16, max_features=sqrt, n_estimators=20, oob_score=False \n",
      "[CV]  bootstrap=False, max_depth=16, max_features=sqrt, n_estimators=20, oob_score=False, total=   0.2s\n",
      "[CV] bootstrap=False, max_depth=16, max_features=sqrt, n_estimators=20, oob_score=False \n",
      "[CV]  bootstrap=False, max_depth=16, max_features=sqrt, n_estimators=20, oob_score=False, total=   0.1s\n",
      "[CV] bootstrap=False, max_depth=16, max_features=log2, n_estimators=16, oob_score=False \n",
      "[CV]  bootstrap=False, max_depth=16, max_features=log2, n_estimators=16, oob_score=False, total=   0.1s\n",
      "[CV] bootstrap=False, max_depth=16, max_features=log2, n_estimators=16, oob_score=False \n",
      "[CV]  bootstrap=False, max_depth=16, max_features=log2, n_estimators=16, oob_score=False, total=   0.1s\n",
      "[CV] bootstrap=False, max_depth=16, max_features=log2, n_estimators=16, oob_score=False \n",
      "[CV]  bootstrap=False, max_depth=16, max_features=log2, n_estimators=16, oob_score=False, total=   0.1s\n",
      "[CV] bootstrap=False, max_depth=16, max_features=log2, n_estimators=18, oob_score=False \n",
      "[CV]  bootstrap=False, max_depth=16, max_features=log2, n_estimators=18, oob_score=False, total=   0.1s\n",
      "[CV] bootstrap=False, max_depth=16, max_features=log2, n_estimators=18, oob_score=False \n",
      "[CV]  bootstrap=False, max_depth=16, max_features=log2, n_estimators=18, oob_score=False, total=   0.1s\n",
      "[CV] bootstrap=False, max_depth=16, max_features=log2, n_estimators=18, oob_score=False \n",
      "[CV]  bootstrap=False, max_depth=16, max_features=log2, n_estimators=18, oob_score=False, total=   0.1s\n",
      "[CV] bootstrap=False, max_depth=16, max_features=log2, n_estimators=20, oob_score=False \n",
      "[CV]  bootstrap=False, max_depth=16, max_features=log2, n_estimators=20, oob_score=False, total=   0.1s\n",
      "[CV] bootstrap=False, max_depth=16, max_features=log2, n_estimators=20, oob_score=False \n",
      "[CV]  bootstrap=False, max_depth=16, max_features=log2, n_estimators=20, oob_score=False, total=   0.1s\n",
      "[CV] bootstrap=False, max_depth=16, max_features=log2, n_estimators=20, oob_score=False \n",
      "[CV]  bootstrap=False, max_depth=16, max_features=log2, n_estimators=20, oob_score=False, total=   0.1s\n",
      "[CV] bootstrap=False, max_depth=16, max_features=None, n_estimators=16, oob_score=False \n",
      "[CV]  bootstrap=False, max_depth=16, max_features=None, n_estimators=16, oob_score=False, total=   4.8s\n",
      "[CV] bootstrap=False, max_depth=16, max_features=None, n_estimators=16, oob_score=False \n",
      "[CV]  bootstrap=False, max_depth=16, max_features=None, n_estimators=16, oob_score=False, total=   4.6s\n",
      "[CV] bootstrap=False, max_depth=16, max_features=None, n_estimators=16, oob_score=False \n",
      "[CV]  bootstrap=False, max_depth=16, max_features=None, n_estimators=16, oob_score=False, total=   4.3s\n",
      "[CV] bootstrap=False, max_depth=16, max_features=None, n_estimators=18, oob_score=False \n",
      "[CV]  bootstrap=False, max_depth=16, max_features=None, n_estimators=18, oob_score=False, total=   5.5s\n",
      "[CV] bootstrap=False, max_depth=16, max_features=None, n_estimators=18, oob_score=False \n",
      "[CV]  bootstrap=False, max_depth=16, max_features=None, n_estimators=18, oob_score=False, total=   5.0s\n",
      "[CV] bootstrap=False, max_depth=16, max_features=None, n_estimators=18, oob_score=False \n",
      "[CV]  bootstrap=False, max_depth=16, max_features=None, n_estimators=18, oob_score=False, total=   4.8s\n",
      "[CV] bootstrap=False, max_depth=16, max_features=None, n_estimators=20, oob_score=False \n",
      "[CV]  bootstrap=False, max_depth=16, max_features=None, n_estimators=20, oob_score=False, total=   6.0s\n",
      "[CV] bootstrap=False, max_depth=16, max_features=None, n_estimators=20, oob_score=False \n",
      "[CV]  bootstrap=False, max_depth=16, max_features=None, n_estimators=20, oob_score=False, total=   5.4s\n",
      "[CV] bootstrap=False, max_depth=16, max_features=None, n_estimators=20, oob_score=False \n",
      "[CV]  bootstrap=False, max_depth=16, max_features=None, n_estimators=20, oob_score=False, total=   5.7s\n"
     ]
    },
    {
     "name": "stderr",
     "output_type": "stream",
     "text": [
      "[Parallel(n_jobs=1)]: Done  81 out of  81 | elapsed:  2.4min finished\n"
     ]
    },
    {
     "data": {
      "text/plain": [
       "GridSearchCV(cv=3, error_score=nan,\n",
       "             estimator=RandomForestClassifier(bootstrap=True, ccp_alpha=0.0,\n",
       "                                              class_weight=None,\n",
       "                                              criterion='gini', max_depth=None,\n",
       "                                              max_features='auto',\n",
       "                                              max_leaf_nodes=None,\n",
       "                                              max_samples=None,\n",
       "                                              min_impurity_decrease=0.0,\n",
       "                                              min_impurity_split=None,\n",
       "                                              min_samples_leaf=1,\n",
       "                                              min_samples_split=2,\n",
       "                                              min_weight_fraction_leaf=0.0,\n",
       "                                              n_estimators=100, n_jobs=None,\n",
       "                                              oob_score=False,\n",
       "                                              random_state=None, verbose=0,\n",
       "                                              warm_start=False),\n",
       "             iid='deprecated', n_jobs=None,\n",
       "             param_grid={'bootstrap': [False], 'max_depth': [12, 14, 16],\n",
       "                         'max_features': ['sqrt', 'log2', None],\n",
       "                         'n_estimators': [16, 18, 20], 'oob_score': [False]},\n",
       "             pre_dispatch='2*n_jobs', refit=True, return_train_score=False,\n",
       "             scoring=None, verbose=2)"
      ]
     },
     "execution_count": 13,
     "metadata": {},
     "output_type": "execute_result"
    }
   ],
   "source": [
    "parameters = {'bootstrap': [False], \n",
    "              'oob_score': [False],\n",
    "              'max_depth': [12, 14, 16],\n",
    "              'max_features': ['sqrt','log2',None],\n",
    "              'n_estimators': [16,18,20]}\n",
    "\n",
    "grid = GridSearchCV(RandomForestClassifier(), parameters, cv=3, verbose=2)\n",
    "grid.fit(X_train, Y_train)"
   ]
  },
  {
   "cell_type": "code",
   "execution_count": 14,
   "metadata": {},
   "outputs": [
    {
     "name": "stdout",
     "output_type": "stream",
     "text": [
      "{'bootstrap': False, 'max_depth': 16, 'max_features': 'log2', 'n_estimators': 20, 'oob_score': False}\n",
      "RandomForestClassifier(bootstrap=False, ccp_alpha=0.0, class_weight=None,\n",
      "                       criterion='gini', max_depth=16, max_features='log2',\n",
      "                       max_leaf_nodes=None, max_samples=None,\n",
      "                       min_impurity_decrease=0.0, min_impurity_split=None,\n",
      "                       min_samples_leaf=1, min_samples_split=2,\n",
      "                       min_weight_fraction_leaf=0.0, n_estimators=20,\n",
      "                       n_jobs=None, oob_score=False, random_state=None,\n",
      "                       verbose=0, warm_start=False)\n"
     ]
    }
   ],
   "source": [
    "params = grid.best_params_\n",
    "best_estimator = grid.best_estimator_\n",
    "print(params)\n",
    "print(best_estimator)"
   ]
  },
  {
   "cell_type": "code",
   "execution_count": 15,
   "metadata": {},
   "outputs": [
    {
     "data": {
      "text/plain": [
       "RandomForestClassifier(bootstrap=False, ccp_alpha=0.0, class_weight=None,\n",
       "                       criterion='gini', max_depth=16, max_features='log2',\n",
       "                       max_leaf_nodes=None, max_samples=None,\n",
       "                       min_impurity_decrease=0.0, min_impurity_split=None,\n",
       "                       min_samples_leaf=1, min_samples_split=2,\n",
       "                       min_weight_fraction_leaf=0.0, n_estimators=20,\n",
       "                       n_jobs=None, oob_score=False, random_state=None,\n",
       "                       verbose=0, warm_start=False)"
      ]
     },
     "execution_count": 15,
     "metadata": {},
     "output_type": "execute_result"
    }
   ],
   "source": [
    "clf = best_estimator\n",
    "clf.fit(X_train,Y_train)"
   ]
  },
  {
   "cell_type": "code",
   "execution_count": 16,
   "metadata": {},
   "outputs": [
    {
     "name": "stdout",
     "output_type": "stream",
     "text": [
      "              precision    recall  f1-score   support\n",
      "\n",
      "           0       0.87      1.00      0.93        13\n",
      "           1       0.92      0.80      0.86        15\n",
      "           2       0.81      0.93      0.87        14\n",
      "           3       1.00      1.00      1.00         9\n",
      "           4       0.88      0.75      0.81        20\n",
      "           5       0.77      0.83      0.80        12\n",
      "\n",
      "    accuracy                           0.87        83\n",
      "   macro avg       0.88      0.89      0.88        83\n",
      "weighted avg       0.87      0.87      0.87        83\n",
      "\n",
      "[[13  0  0  0  0  0]\n",
      " [ 2 12  1  0  0  0]\n",
      " [ 0  1 13  0  0  0]\n",
      " [ 0  0  0  9  0  0]\n",
      " [ 0  0  2  0 15  3]\n",
      " [ 0  0  0  0  2 10]]\n"
     ]
    }
   ],
   "source": [
    "Y_pred = clf.predict(X_test)\n",
    "print(classification_report(Y_test, Y_pred))\n",
    "print(confusion_matrix(Y_test,Y_pred))"
   ]
  },
  {
   "cell_type": "markdown",
   "metadata": {},
   "source": [
    "# Train on entire Data"
   ]
  },
  {
   "cell_type": "code",
   "execution_count": 17,
   "metadata": {},
   "outputs": [],
   "source": [
    "X_train = np.load(os.path.join(\"..\", \"IPD\", \"x_train.npy\"))\n",
    "X_test = np.load(os.path.join(\"..\", \"IPD\", \"x_test.npy\"))\n",
    "Y_train = np.load(os.path.join(\"..\", \"IPD\", \"y_train.npy\"))\n",
    "Y_test = np.load(os.path.join(\"..\", \"IPD\", \"y_test.npy\"))\n",
    "\n",
    "X_train = np.concatenate((X_train,X_test), axis=0)\n",
    "Y_train = np.concatenate((Y_train,Y_test), axis=0)\n",
    "\n",
    "_ , num_timeframes, num_features = X_train.shape\n",
    "X_train = X_train.reshape((-1,num_timeframes*num_features))\n",
    "from scipy.sparse import coo_matrix\n",
    "X_sparse = coo_matrix(X_train)\n",
    "\n",
    "from sklearn.utils import shuffle\n",
    "X_train, X_sparse, Y_train = shuffle(X_train, X_sparse, Y_train)\n",
    "X_train = X_train.reshape((-1,num_timeframes,num_features))"
   ]
  },
  {
   "cell_type": "code",
   "execution_count": 18,
   "metadata": {},
   "outputs": [
    {
     "name": "stdout",
     "output_type": "stream",
     "text": [
      "Training samples : (415, 3000) \n",
      "Testing Samples : (83, 3000)\n",
      "Training Labels : (415,) \n",
      "Testing Labels : (83,)\n"
     ]
    }
   ],
   "source": [
    "X_train = X_train.reshape((-1,num_timeframes*num_features))\n",
    "X_test = X_test.reshape((-1,num_timeframes*num_features))\n",
    "print(\"Training samples : {} \\nTesting Samples : {}\".format(X_train.shape, X_test.shape))\n",
    "print(\"Training Labels : {} \\nTesting Labels : {}\".format(Y_train.shape, Y_test.shape))"
   ]
  },
  {
   "cell_type": "code",
   "execution_count": 19,
   "metadata": {},
   "outputs": [
    {
     "name": "stdout",
     "output_type": "stream",
     "text": [
      "Fitting 3 folds for each of 27 candidates, totalling 81 fits\n",
      "[CV] bootstrap=False, max_depth=14, max_features=sqrt, n_estimators=15, oob_score=False \n",
      "[CV]  bootstrap=False, max_depth=14, max_features=sqrt, n_estimators=15, oob_score=False, total=   0.2s\n",
      "[CV] bootstrap=False, max_depth=14, max_features=sqrt, n_estimators=15, oob_score=False \n"
     ]
    },
    {
     "name": "stderr",
     "output_type": "stream",
     "text": [
      "[Parallel(n_jobs=1)]: Using backend SequentialBackend with 1 concurrent workers.\n",
      "[Parallel(n_jobs=1)]: Done   1 out of   1 | elapsed:    0.1s remaining:    0.0s\n"
     ]
    },
    {
     "name": "stdout",
     "output_type": "stream",
     "text": [
      "[CV]  bootstrap=False, max_depth=14, max_features=sqrt, n_estimators=15, oob_score=False, total=   0.2s\n",
      "[CV] bootstrap=False, max_depth=14, max_features=sqrt, n_estimators=15, oob_score=False \n",
      "[CV]  bootstrap=False, max_depth=14, max_features=sqrt, n_estimators=15, oob_score=False, total=   0.2s\n",
      "[CV] bootstrap=False, max_depth=14, max_features=sqrt, n_estimators=20, oob_score=False \n",
      "[CV]  bootstrap=False, max_depth=14, max_features=sqrt, n_estimators=20, oob_score=False, total=   0.2s\n",
      "[CV] bootstrap=False, max_depth=14, max_features=sqrt, n_estimators=20, oob_score=False \n",
      "[CV]  bootstrap=False, max_depth=14, max_features=sqrt, n_estimators=20, oob_score=False, total=   0.2s\n",
      "[CV] bootstrap=False, max_depth=14, max_features=sqrt, n_estimators=20, oob_score=False \n",
      "[CV]  bootstrap=False, max_depth=14, max_features=sqrt, n_estimators=20, oob_score=False, total=   0.2s\n",
      "[CV] bootstrap=False, max_depth=14, max_features=sqrt, n_estimators=25, oob_score=False \n",
      "[CV]  bootstrap=False, max_depth=14, max_features=sqrt, n_estimators=25, oob_score=False, total=   0.3s\n",
      "[CV] bootstrap=False, max_depth=14, max_features=sqrt, n_estimators=25, oob_score=False \n",
      "[CV]  bootstrap=False, max_depth=14, max_features=sqrt, n_estimators=25, oob_score=False, total=   0.3s\n",
      "[CV] bootstrap=False, max_depth=14, max_features=sqrt, n_estimators=25, oob_score=False \n",
      "[CV]  bootstrap=False, max_depth=14, max_features=sqrt, n_estimators=25, oob_score=False, total=   0.3s\n",
      "[CV] bootstrap=False, max_depth=14, max_features=log2, n_estimators=15, oob_score=False \n",
      "[CV]  bootstrap=False, max_depth=14, max_features=log2, n_estimators=15, oob_score=False, total=   0.1s\n",
      "[CV] bootstrap=False, max_depth=14, max_features=log2, n_estimators=15, oob_score=False \n",
      "[CV]  bootstrap=False, max_depth=14, max_features=log2, n_estimators=15, oob_score=False, total=   0.1s\n",
      "[CV] bootstrap=False, max_depth=14, max_features=log2, n_estimators=15, oob_score=False \n",
      "[CV]  bootstrap=False, max_depth=14, max_features=log2, n_estimators=15, oob_score=False, total=   0.1s\n",
      "[CV] bootstrap=False, max_depth=14, max_features=log2, n_estimators=20, oob_score=False \n",
      "[CV]  bootstrap=False, max_depth=14, max_features=log2, n_estimators=20, oob_score=False, total=   0.1s\n",
      "[CV] bootstrap=False, max_depth=14, max_features=log2, n_estimators=20, oob_score=False \n",
      "[CV]  bootstrap=False, max_depth=14, max_features=log2, n_estimators=20, oob_score=False, total=   0.1s\n",
      "[CV] bootstrap=False, max_depth=14, max_features=log2, n_estimators=20, oob_score=False \n",
      "[CV]  bootstrap=False, max_depth=14, max_features=log2, n_estimators=20, oob_score=False, total=   0.1s\n",
      "[CV] bootstrap=False, max_depth=14, max_features=log2, n_estimators=25, oob_score=False \n",
      "[CV]  bootstrap=False, max_depth=14, max_features=log2, n_estimators=25, oob_score=False, total=   0.1s\n",
      "[CV] bootstrap=False, max_depth=14, max_features=log2, n_estimators=25, oob_score=False \n",
      "[CV]  bootstrap=False, max_depth=14, max_features=log2, n_estimators=25, oob_score=False, total=   0.1s\n",
      "[CV] bootstrap=False, max_depth=14, max_features=log2, n_estimators=25, oob_score=False \n",
      "[CV]  bootstrap=False, max_depth=14, max_features=log2, n_estimators=25, oob_score=False, total=   0.1s\n",
      "[CV] bootstrap=False, max_depth=14, max_features=None, n_estimators=15, oob_score=False \n",
      "[CV]  bootstrap=False, max_depth=14, max_features=None, n_estimators=15, oob_score=False, total=   5.8s\n",
      "[CV] bootstrap=False, max_depth=14, max_features=None, n_estimators=15, oob_score=False \n",
      "[CV]  bootstrap=False, max_depth=14, max_features=None, n_estimators=15, oob_score=False, total=   5.6s\n",
      "[CV] bootstrap=False, max_depth=14, max_features=None, n_estimators=15, oob_score=False \n",
      "[CV]  bootstrap=False, max_depth=14, max_features=None, n_estimators=15, oob_score=False, total=   5.5s\n",
      "[CV] bootstrap=False, max_depth=14, max_features=None, n_estimators=20, oob_score=False \n",
      "[CV]  bootstrap=False, max_depth=14, max_features=None, n_estimators=20, oob_score=False, total=   7.2s\n",
      "[CV] bootstrap=False, max_depth=14, max_features=None, n_estimators=20, oob_score=False \n",
      "[CV]  bootstrap=False, max_depth=14, max_features=None, n_estimators=20, oob_score=False, total=   7.1s\n",
      "[CV] bootstrap=False, max_depth=14, max_features=None, n_estimators=20, oob_score=False \n",
      "[CV]  bootstrap=False, max_depth=14, max_features=None, n_estimators=20, oob_score=False, total=   7.4s\n",
      "[CV] bootstrap=False, max_depth=14, max_features=None, n_estimators=25, oob_score=False \n",
      "[CV]  bootstrap=False, max_depth=14, max_features=None, n_estimators=25, oob_score=False, total=   9.5s\n",
      "[CV] bootstrap=False, max_depth=14, max_features=None, n_estimators=25, oob_score=False \n",
      "[CV]  bootstrap=False, max_depth=14, max_features=None, n_estimators=25, oob_score=False, total=   9.1s\n",
      "[CV] bootstrap=False, max_depth=14, max_features=None, n_estimators=25, oob_score=False \n",
      "[CV]  bootstrap=False, max_depth=14, max_features=None, n_estimators=25, oob_score=False, total=   9.1s\n",
      "[CV] bootstrap=False, max_depth=16, max_features=sqrt, n_estimators=15, oob_score=False \n",
      "[CV]  bootstrap=False, max_depth=16, max_features=sqrt, n_estimators=15, oob_score=False, total=   0.2s\n",
      "[CV] bootstrap=False, max_depth=16, max_features=sqrt, n_estimators=15, oob_score=False \n",
      "[CV]  bootstrap=False, max_depth=16, max_features=sqrt, n_estimators=15, oob_score=False, total=   0.2s\n",
      "[CV] bootstrap=False, max_depth=16, max_features=sqrt, n_estimators=15, oob_score=False \n",
      "[CV]  bootstrap=False, max_depth=16, max_features=sqrt, n_estimators=15, oob_score=False, total=   0.2s\n",
      "[CV] bootstrap=False, max_depth=16, max_features=sqrt, n_estimators=20, oob_score=False \n",
      "[CV]  bootstrap=False, max_depth=16, max_features=sqrt, n_estimators=20, oob_score=False, total=   0.2s\n",
      "[CV] bootstrap=False, max_depth=16, max_features=sqrt, n_estimators=20, oob_score=False \n",
      "[CV]  bootstrap=False, max_depth=16, max_features=sqrt, n_estimators=20, oob_score=False, total=   0.2s\n",
      "[CV] bootstrap=False, max_depth=16, max_features=sqrt, n_estimators=20, oob_score=False \n",
      "[CV]  bootstrap=False, max_depth=16, max_features=sqrt, n_estimators=20, oob_score=False, total=   0.2s\n",
      "[CV] bootstrap=False, max_depth=16, max_features=sqrt, n_estimators=25, oob_score=False \n",
      "[CV]  bootstrap=False, max_depth=16, max_features=sqrt, n_estimators=25, oob_score=False, total=   0.3s\n",
      "[CV] bootstrap=False, max_depth=16, max_features=sqrt, n_estimators=25, oob_score=False \n",
      "[CV]  bootstrap=False, max_depth=16, max_features=sqrt, n_estimators=25, oob_score=False, total=   0.3s\n",
      "[CV] bootstrap=False, max_depth=16, max_features=sqrt, n_estimators=25, oob_score=False \n",
      "[CV]  bootstrap=False, max_depth=16, max_features=sqrt, n_estimators=25, oob_score=False, total=   0.3s\n",
      "[CV] bootstrap=False, max_depth=16, max_features=log2, n_estimators=15, oob_score=False \n",
      "[CV]  bootstrap=False, max_depth=16, max_features=log2, n_estimators=15, oob_score=False, total=   0.1s\n",
      "[CV] bootstrap=False, max_depth=16, max_features=log2, n_estimators=15, oob_score=False \n",
      "[CV]  bootstrap=False, max_depth=16, max_features=log2, n_estimators=15, oob_score=False, total=   0.1s\n",
      "[CV] bootstrap=False, max_depth=16, max_features=log2, n_estimators=15, oob_score=False \n",
      "[CV]  bootstrap=False, max_depth=16, max_features=log2, n_estimators=15, oob_score=False, total=   0.1s\n",
      "[CV] bootstrap=False, max_depth=16, max_features=log2, n_estimators=20, oob_score=False \n",
      "[CV]  bootstrap=False, max_depth=16, max_features=log2, n_estimators=20, oob_score=False, total=   0.1s\n",
      "[CV] bootstrap=False, max_depth=16, max_features=log2, n_estimators=20, oob_score=False \n",
      "[CV]  bootstrap=False, max_depth=16, max_features=log2, n_estimators=20, oob_score=False, total=   0.1s\n",
      "[CV] bootstrap=False, max_depth=16, max_features=log2, n_estimators=20, oob_score=False \n",
      "[CV]  bootstrap=False, max_depth=16, max_features=log2, n_estimators=20, oob_score=False, total=   0.1s\n",
      "[CV] bootstrap=False, max_depth=16, max_features=log2, n_estimators=25, oob_score=False \n",
      "[CV]  bootstrap=False, max_depth=16, max_features=log2, n_estimators=25, oob_score=False, total=   0.1s\n",
      "[CV] bootstrap=False, max_depth=16, max_features=log2, n_estimators=25, oob_score=False \n",
      "[CV]  bootstrap=False, max_depth=16, max_features=log2, n_estimators=25, oob_score=False, total=   0.1s\n",
      "[CV] bootstrap=False, max_depth=16, max_features=log2, n_estimators=25, oob_score=False \n"
     ]
    },
    {
     "name": "stdout",
     "output_type": "stream",
     "text": [
      "[CV]  bootstrap=False, max_depth=16, max_features=log2, n_estimators=25, oob_score=False, total=   0.1s\n",
      "[CV] bootstrap=False, max_depth=16, max_features=None, n_estimators=15, oob_score=False \n",
      "[CV]  bootstrap=False, max_depth=16, max_features=None, n_estimators=15, oob_score=False, total=   5.6s\n",
      "[CV] bootstrap=False, max_depth=16, max_features=None, n_estimators=15, oob_score=False \n",
      "[CV]  bootstrap=False, max_depth=16, max_features=None, n_estimators=15, oob_score=False, total=   6.4s\n",
      "[CV] bootstrap=False, max_depth=16, max_features=None, n_estimators=15, oob_score=False \n",
      "[CV]  bootstrap=False, max_depth=16, max_features=None, n_estimators=15, oob_score=False, total=   6.2s\n",
      "[CV] bootstrap=False, max_depth=16, max_features=None, n_estimators=20, oob_score=False \n",
      "[CV]  bootstrap=False, max_depth=16, max_features=None, n_estimators=20, oob_score=False, total=   3.7s\n",
      "[CV] bootstrap=False, max_depth=16, max_features=None, n_estimators=20, oob_score=False \n",
      "[CV]  bootstrap=False, max_depth=16, max_features=None, n_estimators=20, oob_score=False, total=   3.2s\n",
      "[CV] bootstrap=False, max_depth=16, max_features=None, n_estimators=20, oob_score=False \n",
      "[CV]  bootstrap=False, max_depth=16, max_features=None, n_estimators=20, oob_score=False, total=   3.9s\n",
      "[CV] bootstrap=False, max_depth=16, max_features=None, n_estimators=25, oob_score=False \n",
      "[CV]  bootstrap=False, max_depth=16, max_features=None, n_estimators=25, oob_score=False, total=   6.0s\n",
      "[CV] bootstrap=False, max_depth=16, max_features=None, n_estimators=25, oob_score=False \n",
      "[CV]  bootstrap=False, max_depth=16, max_features=None, n_estimators=25, oob_score=False, total=   5.7s\n",
      "[CV] bootstrap=False, max_depth=16, max_features=None, n_estimators=25, oob_score=False \n",
      "[CV]  bootstrap=False, max_depth=16, max_features=None, n_estimators=25, oob_score=False, total=   5.9s\n",
      "[CV] bootstrap=False, max_depth=18, max_features=sqrt, n_estimators=15, oob_score=False \n",
      "[CV]  bootstrap=False, max_depth=18, max_features=sqrt, n_estimators=15, oob_score=False, total=   0.1s\n",
      "[CV] bootstrap=False, max_depth=18, max_features=sqrt, n_estimators=15, oob_score=False \n",
      "[CV]  bootstrap=False, max_depth=18, max_features=sqrt, n_estimators=15, oob_score=False, total=   0.1s\n",
      "[CV] bootstrap=False, max_depth=18, max_features=sqrt, n_estimators=15, oob_score=False \n",
      "[CV]  bootstrap=False, max_depth=18, max_features=sqrt, n_estimators=15, oob_score=False, total=   0.1s\n",
      "[CV] bootstrap=False, max_depth=18, max_features=sqrt, n_estimators=20, oob_score=False \n",
      "[CV]  bootstrap=False, max_depth=18, max_features=sqrt, n_estimators=20, oob_score=False, total=   0.2s\n",
      "[CV] bootstrap=False, max_depth=18, max_features=sqrt, n_estimators=20, oob_score=False \n",
      "[CV]  bootstrap=False, max_depth=18, max_features=sqrt, n_estimators=20, oob_score=False, total=   0.2s\n",
      "[CV] bootstrap=False, max_depth=18, max_features=sqrt, n_estimators=20, oob_score=False \n",
      "[CV]  bootstrap=False, max_depth=18, max_features=sqrt, n_estimators=20, oob_score=False, total=   0.1s\n",
      "[CV] bootstrap=False, max_depth=18, max_features=sqrt, n_estimators=25, oob_score=False \n",
      "[CV]  bootstrap=False, max_depth=18, max_features=sqrt, n_estimators=25, oob_score=False, total=   0.2s\n",
      "[CV] bootstrap=False, max_depth=18, max_features=sqrt, n_estimators=25, oob_score=False \n",
      "[CV]  bootstrap=False, max_depth=18, max_features=sqrt, n_estimators=25, oob_score=False, total=   0.2s\n",
      "[CV] bootstrap=False, max_depth=18, max_features=sqrt, n_estimators=25, oob_score=False \n",
      "[CV]  bootstrap=False, max_depth=18, max_features=sqrt, n_estimators=25, oob_score=False, total=   0.2s\n",
      "[CV] bootstrap=False, max_depth=18, max_features=log2, n_estimators=15, oob_score=False \n",
      "[CV]  bootstrap=False, max_depth=18, max_features=log2, n_estimators=15, oob_score=False, total=   0.1s\n",
      "[CV] bootstrap=False, max_depth=18, max_features=log2, n_estimators=15, oob_score=False \n",
      "[CV]  bootstrap=False, max_depth=18, max_features=log2, n_estimators=15, oob_score=False, total=   0.1s\n",
      "[CV] bootstrap=False, max_depth=18, max_features=log2, n_estimators=15, oob_score=False \n",
      "[CV]  bootstrap=False, max_depth=18, max_features=log2, n_estimators=15, oob_score=False, total=   0.0s\n",
      "[CV] bootstrap=False, max_depth=18, max_features=log2, n_estimators=20, oob_score=False \n",
      "[CV]  bootstrap=False, max_depth=18, max_features=log2, n_estimators=20, oob_score=False, total=   0.1s\n",
      "[CV] bootstrap=False, max_depth=18, max_features=log2, n_estimators=20, oob_score=False \n",
      "[CV]  bootstrap=False, max_depth=18, max_features=log2, n_estimators=20, oob_score=False, total=   0.1s\n",
      "[CV] bootstrap=False, max_depth=18, max_features=log2, n_estimators=20, oob_score=False \n",
      "[CV]  bootstrap=False, max_depth=18, max_features=log2, n_estimators=20, oob_score=False, total=   0.1s\n",
      "[CV] bootstrap=False, max_depth=18, max_features=log2, n_estimators=25, oob_score=False \n",
      "[CV]  bootstrap=False, max_depth=18, max_features=log2, n_estimators=25, oob_score=False, total=   0.1s\n",
      "[CV] bootstrap=False, max_depth=18, max_features=log2, n_estimators=25, oob_score=False \n",
      "[CV]  bootstrap=False, max_depth=18, max_features=log2, n_estimators=25, oob_score=False, total=   0.1s\n",
      "[CV] bootstrap=False, max_depth=18, max_features=log2, n_estimators=25, oob_score=False \n",
      "[CV]  bootstrap=False, max_depth=18, max_features=log2, n_estimators=25, oob_score=False, total=   0.1s\n",
      "[CV] bootstrap=False, max_depth=18, max_features=None, n_estimators=15, oob_score=False \n",
      "[CV]  bootstrap=False, max_depth=18, max_features=None, n_estimators=15, oob_score=False, total=   3.7s\n",
      "[CV] bootstrap=False, max_depth=18, max_features=None, n_estimators=15, oob_score=False \n",
      "[CV]  bootstrap=False, max_depth=18, max_features=None, n_estimators=15, oob_score=False, total=   3.4s\n",
      "[CV] bootstrap=False, max_depth=18, max_features=None, n_estimators=15, oob_score=False \n",
      "[CV]  bootstrap=False, max_depth=18, max_features=None, n_estimators=15, oob_score=False, total=   3.4s\n",
      "[CV] bootstrap=False, max_depth=18, max_features=None, n_estimators=20, oob_score=False \n",
      "[CV]  bootstrap=False, max_depth=18, max_features=None, n_estimators=20, oob_score=False, total=   5.0s\n",
      "[CV] bootstrap=False, max_depth=18, max_features=None, n_estimators=20, oob_score=False \n",
      "[CV]  bootstrap=False, max_depth=18, max_features=None, n_estimators=20, oob_score=False, total=   4.6s\n",
      "[CV] bootstrap=False, max_depth=18, max_features=None, n_estimators=20, oob_score=False \n",
      "[CV]  bootstrap=False, max_depth=18, max_features=None, n_estimators=20, oob_score=False, total=   4.5s\n",
      "[CV] bootstrap=False, max_depth=18, max_features=None, n_estimators=25, oob_score=False \n",
      "[CV]  bootstrap=False, max_depth=18, max_features=None, n_estimators=25, oob_score=False, total=   5.9s\n",
      "[CV] bootstrap=False, max_depth=18, max_features=None, n_estimators=25, oob_score=False \n",
      "[CV]  bootstrap=False, max_depth=18, max_features=None, n_estimators=25, oob_score=False, total=   5.6s\n",
      "[CV] bootstrap=False, max_depth=18, max_features=None, n_estimators=25, oob_score=False \n",
      "[CV]  bootstrap=False, max_depth=18, max_features=None, n_estimators=25, oob_score=False, total=   5.6s\n"
     ]
    },
    {
     "name": "stderr",
     "output_type": "stream",
     "text": [
      "[Parallel(n_jobs=1)]: Done  81 out of  81 | elapsed:  2.7min finished\n"
     ]
    },
    {
     "data": {
      "text/plain": [
       "GridSearchCV(cv=3, error_score=nan,\n",
       "             estimator=RandomForestClassifier(bootstrap=True, ccp_alpha=0.0,\n",
       "                                              class_weight=None,\n",
       "                                              criterion='gini', max_depth=None,\n",
       "                                              max_features='auto',\n",
       "                                              max_leaf_nodes=None,\n",
       "                                              max_samples=None,\n",
       "                                              min_impurity_decrease=0.0,\n",
       "                                              min_impurity_split=None,\n",
       "                                              min_samples_leaf=1,\n",
       "                                              min_samples_split=2,\n",
       "                                              min_weight_fraction_leaf=0.0,\n",
       "                                              n_estimators=100, n_jobs=None,\n",
       "                                              oob_score=False,\n",
       "                                              random_state=None, verbose=0,\n",
       "                                              warm_start=False),\n",
       "             iid='deprecated', n_jobs=None,\n",
       "             param_grid={'bootstrap': [False], 'max_depth': [14, 16, 18],\n",
       "                         'max_features': ['sqrt', 'log2', None],\n",
       "                         'n_estimators': [15, 20, 25], 'oob_score': [False]},\n",
       "             pre_dispatch='2*n_jobs', refit=True, return_train_score=False,\n",
       "             scoring=None, verbose=2)"
      ]
     },
     "execution_count": 19,
     "metadata": {},
     "output_type": "execute_result"
    }
   ],
   "source": [
    "parameters = {'bootstrap': [False], \n",
    "              'oob_score': [False],\n",
    "              'max_depth': [14, 16, 18],\n",
    "              'max_features': ['sqrt','log2',None],\n",
    "              'n_estimators': [15, 20, 25]}\n",
    "\n",
    "grid = GridSearchCV(RandomForestClassifier(), parameters, cv=3, verbose=2)\n",
    "grid.fit(X_train, Y_train)"
   ]
  },
  {
   "cell_type": "code",
   "execution_count": 20,
   "metadata": {},
   "outputs": [
    {
     "data": {
      "text/plain": [
       "RandomForestClassifier(bootstrap=False, ccp_alpha=0.0, class_weight=None,\n",
       "                       criterion='gini', max_depth=16, max_features='sqrt',\n",
       "                       max_leaf_nodes=None, max_samples=None,\n",
       "                       min_impurity_decrease=0.0, min_impurity_split=None,\n",
       "                       min_samples_leaf=1, min_samples_split=2,\n",
       "                       min_weight_fraction_leaf=0.0, n_estimators=25,\n",
       "                       n_jobs=None, oob_score=False, random_state=None,\n",
       "                       verbose=0, warm_start=False)"
      ]
     },
     "execution_count": 20,
     "metadata": {},
     "output_type": "execute_result"
    }
   ],
   "source": [
    "clf = grid.best_estimator_\n",
    "clf.fit(X_train,Y_train)"
   ]
  },
  {
   "cell_type": "markdown",
   "metadata": {},
   "source": [
    "# Saving model"
   ]
  },
  {
   "cell_type": "code",
   "execution_count": 21,
   "metadata": {},
   "outputs": [
    {
     "name": "stdout",
     "output_type": "stream",
     "text": [
      "Model Saved\n"
     ]
    }
   ],
   "source": [
    "pickle.dump(clf, open(os.path.join(\"..\", \"IPD\", \"RandomForest_model.pkl\"), 'wb'))\n",
    "print(\"Model Saved\")"
   ]
  },
  {
   "cell_type": "code",
   "execution_count": null,
   "metadata": {},
   "outputs": [],
   "source": []
  }
 ],
 "metadata": {
  "kernelspec": {
   "display_name": "Python 3",
   "language": "python",
   "name": "python3"
  },
  "language_info": {
   "codemirror_mode": {
    "name": "ipython",
    "version": 3
   },
   "file_extension": ".py",
   "mimetype": "text/x-python",
   "name": "python",
   "nbconvert_exporter": "python",
   "pygments_lexer": "ipython3",
   "version": "3.7.7"
  }
 },
 "nbformat": 4,
 "nbformat_minor": 4
}
