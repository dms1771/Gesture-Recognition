{
 "cells": [
  {
   "cell_type": "markdown",
   "metadata": {},
   "source": [
    "# Import Necessary Libraries"
   ]
  },
  {
   "cell_type": "code",
   "execution_count": 1,
   "metadata": {},
   "outputs": [],
   "source": [
    "import numpy as np\n",
    "import pandas as pd\n",
    "import matplotlib.pyplot as plt\n",
    "import random\n",
    "import math\n",
    "import collections\n",
    "import os\n",
    "import json\n",
    "import pickle\n",
    "\n",
    "from sklearn.preprocessing import StandardScaler, MinMaxScaler\n",
    "from sklearn.neighbors import KNeighborsClassifier\n",
    "from sklearn.model_selection import GridSearchCV\n",
    "from sklearn.model_selection import train_test_split\n",
    "from sklearn.metrics import classification_report, confusion_matrix\n",
    "from sklearn.model_selection import cross_val_predict\n",
    "\n",
    "import warnings\n",
    "warnings.filterwarnings('ignore')"
   ]
  },
  {
   "cell_type": "markdown",
   "metadata": {},
   "source": [
    "# Load Train Test Split"
   ]
  },
  {
   "cell_type": "code",
   "execution_count": 9,
   "metadata": {},
   "outputs": [
    {
     "name": "stdout",
     "output_type": "stream",
     "text": [
      "Training samples : (332, 250, 12) \n",
      "Testing Samples : (83, 250, 12)\n",
      "Training Labels : (332,) \n",
      "Testing Labels : (83,)\n"
     ]
    }
   ],
   "source": [
    "X_train = np.load(os.path.join(\"..\", \"IPD\", \"x_train.npy\"))\n",
    "X_test = np.load(os.path.join(\"..\", \"IPD\", \"x_test.npy\"))\n",
    "Y_train = np.load(os.path.join(\"..\", \"IPD\", \"y_train.npy\"))\n",
    "Y_test = np.load(os.path.join(\"..\", \"IPD\", \"y_test.npy\"))\n",
    "print(\"Training samples : {} \\nTesting Samples : {}\".format(X_train.shape, X_test.shape))\n",
    "print(\"Training Labels : {} \\nTesting Labels : {}\".format(Y_train.shape, Y_test.shape))"
   ]
  },
  {
   "cell_type": "code",
   "execution_count": 10,
   "metadata": {},
   "outputs": [],
   "source": [
    "_ , num_timeframes, num_features = X_train.shape"
   ]
  },
  {
   "cell_type": "markdown",
   "metadata": {},
   "source": [
    "# Reshape data for the model\n",
    "-----------------\n",
    "Samples are a 2D matrix which need to be reshaped to 1D to feed into the model"
   ]
  },
  {
   "cell_type": "code",
   "execution_count": 11,
   "metadata": {},
   "outputs": [
    {
     "name": "stdout",
     "output_type": "stream",
     "text": [
      "Training samples : (332, 3000) \n",
      "Testing Samples : (83, 3000)\n",
      "Training Labels : (332,) \n",
      "Testing Labels : (83,)\n"
     ]
    }
   ],
   "source": [
    "X_train = X_train.reshape((-1,num_timeframes*num_features))\n",
    "X_test = X_test.reshape((-1,num_timeframes*num_features))\n",
    "print(\"Training samples : {} \\nTesting Samples : {}\".format(X_train.shape, X_test.shape))\n",
    "print(\"Training Labels : {} \\nTesting Labels : {}\".format(Y_train.shape, Y_test.shape))"
   ]
  },
  {
   "cell_type": "markdown",
   "metadata": {},
   "source": [
    "# Grid search over KNN model"
   ]
  },
  {
   "cell_type": "code",
   "execution_count": 12,
   "metadata": {},
   "outputs": [
    {
     "name": "stdout",
     "output_type": "stream",
     "text": [
      "Fitting 3 folds for each of 32 candidates, totalling 96 fits\n",
      "[CV] metric=euclidean, n_neighbors=3, weights=uniform ................\n",
      "[CV] . metric=euclidean, n_neighbors=3, weights=uniform, total=   0.1s\n",
      "[CV] metric=euclidean, n_neighbors=3, weights=uniform ................\n"
     ]
    },
    {
     "name": "stderr",
     "output_type": "stream",
     "text": [
      "[Parallel(n_jobs=1)]: Using backend SequentialBackend with 1 concurrent workers.\n",
      "[Parallel(n_jobs=1)]: Done   1 out of   1 | elapsed:    0.0s remaining:    0.0s\n"
     ]
    },
    {
     "name": "stdout",
     "output_type": "stream",
     "text": [
      "[CV] . metric=euclidean, n_neighbors=3, weights=uniform, total=   0.1s\n",
      "[CV] metric=euclidean, n_neighbors=3, weights=uniform ................\n",
      "[CV] . metric=euclidean, n_neighbors=3, weights=uniform, total=   0.1s\n",
      "[CV] metric=euclidean, n_neighbors=3, weights=distance ...............\n",
      "[CV]  metric=euclidean, n_neighbors=3, weights=distance, total=   0.1s\n",
      "[CV] metric=euclidean, n_neighbors=3, weights=distance ...............\n",
      "[CV]  metric=euclidean, n_neighbors=3, weights=distance, total=   0.1s\n",
      "[CV] metric=euclidean, n_neighbors=3, weights=distance ...............\n",
      "[CV]  metric=euclidean, n_neighbors=3, weights=distance, total=   0.1s\n",
      "[CV] metric=euclidean, n_neighbors=5, weights=uniform ................\n",
      "[CV] . metric=euclidean, n_neighbors=5, weights=uniform, total=   0.1s\n",
      "[CV] metric=euclidean, n_neighbors=5, weights=uniform ................\n",
      "[CV] . metric=euclidean, n_neighbors=5, weights=uniform, total=   0.1s\n",
      "[CV] metric=euclidean, n_neighbors=5, weights=uniform ................\n",
      "[CV] . metric=euclidean, n_neighbors=5, weights=uniform, total=   0.1s\n",
      "[CV] metric=euclidean, n_neighbors=5, weights=distance ...............\n",
      "[CV]  metric=euclidean, n_neighbors=5, weights=distance, total=   0.1s\n",
      "[CV] metric=euclidean, n_neighbors=5, weights=distance ...............\n",
      "[CV]  metric=euclidean, n_neighbors=5, weights=distance, total=   0.1s\n",
      "[CV] metric=euclidean, n_neighbors=5, weights=distance ...............\n",
      "[CV]  metric=euclidean, n_neighbors=5, weights=distance, total=   0.1s\n",
      "[CV] metric=euclidean, n_neighbors=7, weights=uniform ................\n",
      "[CV] . metric=euclidean, n_neighbors=7, weights=uniform, total=   0.1s\n",
      "[CV] metric=euclidean, n_neighbors=7, weights=uniform ................\n",
      "[CV] . metric=euclidean, n_neighbors=7, weights=uniform, total=   0.1s\n",
      "[CV] metric=euclidean, n_neighbors=7, weights=uniform ................\n",
      "[CV] . metric=euclidean, n_neighbors=7, weights=uniform, total=   0.1s\n",
      "[CV] metric=euclidean, n_neighbors=7, weights=distance ...............\n",
      "[CV]  metric=euclidean, n_neighbors=7, weights=distance, total=   0.1s\n",
      "[CV] metric=euclidean, n_neighbors=7, weights=distance ...............\n",
      "[CV]  metric=euclidean, n_neighbors=7, weights=distance, total=   0.1s\n",
      "[CV] metric=euclidean, n_neighbors=7, weights=distance ...............\n",
      "[CV]  metric=euclidean, n_neighbors=7, weights=distance, total=   0.1s\n",
      "[CV] metric=euclidean, n_neighbors=9, weights=uniform ................\n",
      "[CV] . metric=euclidean, n_neighbors=9, weights=uniform, total=   0.2s\n",
      "[CV] metric=euclidean, n_neighbors=9, weights=uniform ................\n",
      "[CV] . metric=euclidean, n_neighbors=9, weights=uniform, total=   0.1s\n",
      "[CV] metric=euclidean, n_neighbors=9, weights=uniform ................\n",
      "[CV] . metric=euclidean, n_neighbors=9, weights=uniform, total=   0.1s\n",
      "[CV] metric=euclidean, n_neighbors=9, weights=distance ...............\n",
      "[CV]  metric=euclidean, n_neighbors=9, weights=distance, total=   0.2s\n",
      "[CV] metric=euclidean, n_neighbors=9, weights=distance ...............\n",
      "[CV]  metric=euclidean, n_neighbors=9, weights=distance, total=   0.1s\n",
      "[CV] metric=euclidean, n_neighbors=9, weights=distance ...............\n",
      "[CV]  metric=euclidean, n_neighbors=9, weights=distance, total=   0.1s\n",
      "[CV] metric=manhattan, n_neighbors=3, weights=uniform ................\n",
      "[CV] . metric=manhattan, n_neighbors=3, weights=uniform, total=   0.1s\n",
      "[CV] metric=manhattan, n_neighbors=3, weights=uniform ................\n",
      "[CV] . metric=manhattan, n_neighbors=3, weights=uniform, total=   0.1s\n",
      "[CV] metric=manhattan, n_neighbors=3, weights=uniform ................\n",
      "[CV] . metric=manhattan, n_neighbors=3, weights=uniform, total=   0.1s\n",
      "[CV] metric=manhattan, n_neighbors=3, weights=distance ...............\n",
      "[CV]  metric=manhattan, n_neighbors=3, weights=distance, total=   0.1s\n",
      "[CV] metric=manhattan, n_neighbors=3, weights=distance ...............\n",
      "[CV]  metric=manhattan, n_neighbors=3, weights=distance, total=   0.1s\n",
      "[CV] metric=manhattan, n_neighbors=3, weights=distance ...............\n",
      "[CV]  metric=manhattan, n_neighbors=3, weights=distance, total=   0.1s\n",
      "[CV] metric=manhattan, n_neighbors=5, weights=uniform ................\n",
      "[CV] . metric=manhattan, n_neighbors=5, weights=uniform, total=   0.1s\n",
      "[CV] metric=manhattan, n_neighbors=5, weights=uniform ................\n",
      "[CV] . metric=manhattan, n_neighbors=5, weights=uniform, total=   0.1s\n",
      "[CV] metric=manhattan, n_neighbors=5, weights=uniform ................\n",
      "[CV] . metric=manhattan, n_neighbors=5, weights=uniform, total=   0.1s\n",
      "[CV] metric=manhattan, n_neighbors=5, weights=distance ...............\n",
      "[CV]  metric=manhattan, n_neighbors=5, weights=distance, total=   0.1s\n",
      "[CV] metric=manhattan, n_neighbors=5, weights=distance ...............\n",
      "[CV]  metric=manhattan, n_neighbors=5, weights=distance, total=   0.1s\n",
      "[CV] metric=manhattan, n_neighbors=5, weights=distance ...............\n",
      "[CV]  metric=manhattan, n_neighbors=5, weights=distance, total=   0.1s\n",
      "[CV] metric=manhattan, n_neighbors=7, weights=uniform ................\n",
      "[CV] . metric=manhattan, n_neighbors=7, weights=uniform, total=   0.1s\n",
      "[CV] metric=manhattan, n_neighbors=7, weights=uniform ................\n",
      "[CV] . metric=manhattan, n_neighbors=7, weights=uniform, total=   0.2s\n",
      "[CV] metric=manhattan, n_neighbors=7, weights=uniform ................\n",
      "[CV] . metric=manhattan, n_neighbors=7, weights=uniform, total=   0.1s\n",
      "[CV] metric=manhattan, n_neighbors=7, weights=distance ...............\n",
      "[CV]  metric=manhattan, n_neighbors=7, weights=distance, total=   0.1s\n",
      "[CV] metric=manhattan, n_neighbors=7, weights=distance ...............\n",
      "[CV]  metric=manhattan, n_neighbors=7, weights=distance, total=   0.1s\n",
      "[CV] metric=manhattan, n_neighbors=7, weights=distance ...............\n",
      "[CV]  metric=manhattan, n_neighbors=7, weights=distance, total=   0.1s\n",
      "[CV] metric=manhattan, n_neighbors=9, weights=uniform ................\n",
      "[CV] . metric=manhattan, n_neighbors=9, weights=uniform, total=   0.1s\n",
      "[CV] metric=manhattan, n_neighbors=9, weights=uniform ................\n",
      "[CV] . metric=manhattan, n_neighbors=9, weights=uniform, total=   0.1s\n",
      "[CV] metric=manhattan, n_neighbors=9, weights=uniform ................\n",
      "[CV] . metric=manhattan, n_neighbors=9, weights=uniform, total=   0.1s\n",
      "[CV] metric=manhattan, n_neighbors=9, weights=distance ...............\n",
      "[CV]  metric=manhattan, n_neighbors=9, weights=distance, total=   0.1s\n",
      "[CV] metric=manhattan, n_neighbors=9, weights=distance ...............\n",
      "[CV]  metric=manhattan, n_neighbors=9, weights=distance, total=   0.1s\n",
      "[CV] metric=manhattan, n_neighbors=9, weights=distance ...............\n",
      "[CV]  metric=manhattan, n_neighbors=9, weights=distance, total=   0.1s\n",
      "[CV] metric=minkowski, n_neighbors=3, weights=uniform ................\n",
      "[CV] . metric=minkowski, n_neighbors=3, weights=uniform, total=   0.2s\n",
      "[CV] metric=minkowski, n_neighbors=3, weights=uniform ................\n",
      "[CV] . metric=minkowski, n_neighbors=3, weights=uniform, total=   0.1s\n",
      "[CV] metric=minkowski, n_neighbors=3, weights=uniform ................\n",
      "[CV] . metric=minkowski, n_neighbors=3, weights=uniform, total=   0.1s\n",
      "[CV] metric=minkowski, n_neighbors=3, weights=distance ...............\n",
      "[CV]  metric=minkowski, n_neighbors=3, weights=distance, total=   0.1s\n",
      "[CV] metric=minkowski, n_neighbors=3, weights=distance ...............\n",
      "[CV]  metric=minkowski, n_neighbors=3, weights=distance, total=   0.1s\n",
      "[CV] metric=minkowski, n_neighbors=3, weights=distance ...............\n",
      "[CV]  metric=minkowski, n_neighbors=3, weights=distance, total=   0.1s\n",
      "[CV] metric=minkowski, n_neighbors=5, weights=uniform ................\n",
      "[CV] . metric=minkowski, n_neighbors=5, weights=uniform, total=   0.1s\n",
      "[CV] metric=minkowski, n_neighbors=5, weights=uniform ................\n",
      "[CV] . metric=minkowski, n_neighbors=5, weights=uniform, total=   0.1s\n",
      "[CV] metric=minkowski, n_neighbors=5, weights=uniform ................\n",
      "[CV] . metric=minkowski, n_neighbors=5, weights=uniform, total=   0.1s\n",
      "[CV] metric=minkowski, n_neighbors=5, weights=distance ...............\n",
      "[CV]  metric=minkowski, n_neighbors=5, weights=distance, total=   0.1s\n",
      "[CV] metric=minkowski, n_neighbors=5, weights=distance ...............\n",
      "[CV]  metric=minkowski, n_neighbors=5, weights=distance, total=   0.1s\n",
      "[CV] metric=minkowski, n_neighbors=5, weights=distance ...............\n"
     ]
    },
    {
     "name": "stdout",
     "output_type": "stream",
     "text": [
      "[CV]  metric=minkowski, n_neighbors=5, weights=distance, total=   0.1s\n",
      "[CV] metric=minkowski, n_neighbors=7, weights=uniform ................\n",
      "[CV] . metric=minkowski, n_neighbors=7, weights=uniform, total=   0.1s\n",
      "[CV] metric=minkowski, n_neighbors=7, weights=uniform ................\n",
      "[CV] . metric=minkowski, n_neighbors=7, weights=uniform, total=   0.1s\n",
      "[CV] metric=minkowski, n_neighbors=7, weights=uniform ................\n",
      "[CV] . metric=minkowski, n_neighbors=7, weights=uniform, total=   0.1s\n",
      "[CV] metric=minkowski, n_neighbors=7, weights=distance ...............\n",
      "[CV]  metric=minkowski, n_neighbors=7, weights=distance, total=   0.2s\n",
      "[CV] metric=minkowski, n_neighbors=7, weights=distance ...............\n",
      "[CV]  metric=minkowski, n_neighbors=7, weights=distance, total=   0.2s\n",
      "[CV] metric=minkowski, n_neighbors=7, weights=distance ...............\n",
      "[CV]  metric=minkowski, n_neighbors=7, weights=distance, total=   0.1s\n",
      "[CV] metric=minkowski, n_neighbors=9, weights=uniform ................\n",
      "[CV] . metric=minkowski, n_neighbors=9, weights=uniform, total=   0.2s\n",
      "[CV] metric=minkowski, n_neighbors=9, weights=uniform ................\n",
      "[CV] . metric=minkowski, n_neighbors=9, weights=uniform, total=   0.2s\n",
      "[CV] metric=minkowski, n_neighbors=9, weights=uniform ................\n",
      "[CV] . metric=minkowski, n_neighbors=9, weights=uniform, total=   0.2s\n",
      "[CV] metric=minkowski, n_neighbors=9, weights=distance ...............\n",
      "[CV]  metric=minkowski, n_neighbors=9, weights=distance, total=   0.1s\n",
      "[CV] metric=minkowski, n_neighbors=9, weights=distance ...............\n",
      "[CV]  metric=minkowski, n_neighbors=9, weights=distance, total=   0.1s\n",
      "[CV] metric=minkowski, n_neighbors=9, weights=distance ...............\n",
      "[CV]  metric=minkowski, n_neighbors=9, weights=distance, total=   0.1s\n",
      "[CV] metric=chebyshev, n_neighbors=3, weights=uniform ................\n",
      "[CV] . metric=chebyshev, n_neighbors=3, weights=uniform, total=   0.1s\n",
      "[CV] metric=chebyshev, n_neighbors=3, weights=uniform ................\n",
      "[CV] . metric=chebyshev, n_neighbors=3, weights=uniform, total=   0.1s\n",
      "[CV] metric=chebyshev, n_neighbors=3, weights=uniform ................\n",
      "[CV] . metric=chebyshev, n_neighbors=3, weights=uniform, total=   0.1s\n",
      "[CV] metric=chebyshev, n_neighbors=3, weights=distance ...............\n",
      "[CV]  metric=chebyshev, n_neighbors=3, weights=distance, total=   0.1s\n",
      "[CV] metric=chebyshev, n_neighbors=3, weights=distance ...............\n",
      "[CV]  metric=chebyshev, n_neighbors=3, weights=distance, total=   0.1s\n",
      "[CV] metric=chebyshev, n_neighbors=3, weights=distance ...............\n",
      "[CV]  metric=chebyshev, n_neighbors=3, weights=distance, total=   0.1s\n",
      "[CV] metric=chebyshev, n_neighbors=5, weights=uniform ................\n",
      "[CV] . metric=chebyshev, n_neighbors=5, weights=uniform, total=   0.1s\n",
      "[CV] metric=chebyshev, n_neighbors=5, weights=uniform ................\n",
      "[CV] . metric=chebyshev, n_neighbors=5, weights=uniform, total=   0.1s\n",
      "[CV] metric=chebyshev, n_neighbors=5, weights=uniform ................\n",
      "[CV] . metric=chebyshev, n_neighbors=5, weights=uniform, total=   0.1s\n",
      "[CV] metric=chebyshev, n_neighbors=5, weights=distance ...............\n",
      "[CV]  metric=chebyshev, n_neighbors=5, weights=distance, total=   0.1s\n",
      "[CV] metric=chebyshev, n_neighbors=5, weights=distance ...............\n",
      "[CV]  metric=chebyshev, n_neighbors=5, weights=distance, total=   0.1s\n",
      "[CV] metric=chebyshev, n_neighbors=5, weights=distance ...............\n",
      "[CV]  metric=chebyshev, n_neighbors=5, weights=distance, total=   0.1s\n",
      "[CV] metric=chebyshev, n_neighbors=7, weights=uniform ................\n",
      "[CV] . metric=chebyshev, n_neighbors=7, weights=uniform, total=   0.1s\n",
      "[CV] metric=chebyshev, n_neighbors=7, weights=uniform ................\n",
      "[CV] . metric=chebyshev, n_neighbors=7, weights=uniform, total=   0.1s\n",
      "[CV] metric=chebyshev, n_neighbors=7, weights=uniform ................\n",
      "[CV] . metric=chebyshev, n_neighbors=7, weights=uniform, total=   0.1s\n",
      "[CV] metric=chebyshev, n_neighbors=7, weights=distance ...............\n",
      "[CV]  metric=chebyshev, n_neighbors=7, weights=distance, total=   0.1s\n",
      "[CV] metric=chebyshev, n_neighbors=7, weights=distance ...............\n",
      "[CV]  metric=chebyshev, n_neighbors=7, weights=distance, total=   0.1s\n",
      "[CV] metric=chebyshev, n_neighbors=7, weights=distance ...............\n",
      "[CV]  metric=chebyshev, n_neighbors=7, weights=distance, total=   0.1s\n",
      "[CV] metric=chebyshev, n_neighbors=9, weights=uniform ................\n",
      "[CV] . metric=chebyshev, n_neighbors=9, weights=uniform, total=   0.1s\n",
      "[CV] metric=chebyshev, n_neighbors=9, weights=uniform ................\n",
      "[CV] . metric=chebyshev, n_neighbors=9, weights=uniform, total=   0.1s\n",
      "[CV] metric=chebyshev, n_neighbors=9, weights=uniform ................\n",
      "[CV] . metric=chebyshev, n_neighbors=9, weights=uniform, total=   0.1s\n",
      "[CV] metric=chebyshev, n_neighbors=9, weights=distance ...............\n",
      "[CV]  metric=chebyshev, n_neighbors=9, weights=distance, total=   0.1s\n",
      "[CV] metric=chebyshev, n_neighbors=9, weights=distance ...............\n",
      "[CV]  metric=chebyshev, n_neighbors=9, weights=distance, total=   0.1s\n",
      "[CV] metric=chebyshev, n_neighbors=9, weights=distance ...............\n",
      "[CV]  metric=chebyshev, n_neighbors=9, weights=distance, total=   0.1s\n"
     ]
    },
    {
     "name": "stderr",
     "output_type": "stream",
     "text": [
      "[Parallel(n_jobs=1)]: Done  96 out of  96 | elapsed:   12.9s finished\n"
     ]
    },
    {
     "data": {
      "text/plain": [
       "GridSearchCV(cv=3, error_score=nan,\n",
       "             estimator=KNeighborsClassifier(algorithm='auto', leaf_size=30,\n",
       "                                            metric='minkowski',\n",
       "                                            metric_params=None, n_jobs=None,\n",
       "                                            n_neighbors=5, p=2,\n",
       "                                            weights='uniform'),\n",
       "             iid='deprecated', n_jobs=None,\n",
       "             param_grid={'metric': ['euclidean', 'manhattan', 'minkowski',\n",
       "                                    'chebyshev'],\n",
       "                         'n_neighbors': [3, 5, 7, 9],\n",
       "                         'weights': ['uniform', 'distance']},\n",
       "             pre_dispatch='2*n_jobs', refit=True, return_train_score=False,\n",
       "             scoring=None, verbose=2)"
      ]
     },
     "execution_count": 12,
     "metadata": {},
     "output_type": "execute_result"
    }
   ],
   "source": [
    "parameters = {\n",
    "    \"n_neighbors\": list(range(3,11,2)),\n",
    "    \"weights\": ['uniform','distance'],\n",
    "    \"metric\":['euclidean','manhattan','minkowski','chebyshev']\n",
    "}\n",
    "\n",
    "grid = GridSearchCV(KNeighborsClassifier(), parameters, cv=3, verbose=2)\n",
    "grid.fit(X_train, Y_train)"
   ]
  },
  {
   "cell_type": "code",
   "execution_count": 13,
   "metadata": {},
   "outputs": [
    {
     "name": "stdout",
     "output_type": "stream",
     "text": [
      "{'metric': 'manhattan', 'n_neighbors': 3, 'weights': 'distance'}\n",
      "KNeighborsClassifier(algorithm='auto', leaf_size=30, metric='manhattan',\n",
      "                     metric_params=None, n_jobs=None, n_neighbors=3, p=2,\n",
      "                     weights='distance')\n"
     ]
    }
   ],
   "source": [
    "params = grid.best_params_\n",
    "best_estimator = grid.best_estimator_\n",
    "print(params)\n",
    "print(best_estimator)"
   ]
  },
  {
   "cell_type": "code",
   "execution_count": 14,
   "metadata": {},
   "outputs": [
    {
     "data": {
      "text/plain": [
       "KNeighborsClassifier(algorithm='auto', leaf_size=30, metric='manhattan',\n",
       "                     metric_params=None, n_jobs=None, n_neighbors=3, p=2,\n",
       "                     weights='distance')"
      ]
     },
     "execution_count": 14,
     "metadata": {},
     "output_type": "execute_result"
    }
   ],
   "source": [
    "clf = best_estimator\n",
    "clf.fit(X_train,Y_train)"
   ]
  },
  {
   "cell_type": "code",
   "execution_count": 15,
   "metadata": {},
   "outputs": [
    {
     "name": "stdout",
     "output_type": "stream",
     "text": [
      "              precision    recall  f1-score   support\n",
      "\n",
      "           0       0.60      0.69      0.64        13\n",
      "           1       0.67      0.67      0.67        15\n",
      "           2       0.71      0.71      0.71        14\n",
      "           3       1.00      0.89      0.94         9\n",
      "           4       0.79      0.75      0.77        20\n",
      "           5       0.50      0.50      0.50        12\n",
      "\n",
      "    accuracy                           0.70        83\n",
      "   macro avg       0.71      0.70      0.71        83\n",
      "weighted avg       0.71      0.70      0.70        83\n",
      "\n",
      "[[ 9  2  2  0  0  0]\n",
      " [ 3 10  0  0  1  1]\n",
      " [ 2  0 10  0  1  1]\n",
      " [ 0  0  1  8  0  0]\n",
      " [ 0  1  0  0 15  4]\n",
      " [ 1  2  1  0  2  6]]\n"
     ]
    }
   ],
   "source": [
    "Y_pred = clf.predict(X_test)\n",
    "print(classification_report(Y_test, Y_pred))\n",
    "print(confusion_matrix(Y_test,Y_pred))"
   ]
  },
  {
   "cell_type": "markdown",
   "metadata": {},
   "source": [
    "# Train on entire data"
   ]
  },
  {
   "cell_type": "code",
   "execution_count": 16,
   "metadata": {},
   "outputs": [],
   "source": [
    "X_train = np.load(os.path.join(\"..\", \"IPD\", \"x_train.npy\"))\n",
    "X_test = np.load(os.path.join(\"..\", \"IPD\", \"x_test.npy\"))\n",
    "Y_train = np.load(os.path.join(\"..\", \"IPD\", \"y_train.npy\"))\n",
    "Y_test = np.load(os.path.join(\"..\", \"IPD\", \"y_test.npy\"))\n",
    "\n",
    "X_train = np.concatenate((X_train,X_test), axis=0)\n",
    "Y_train = np.concatenate((Y_train,Y_test), axis=0)\n",
    "\n",
    "_ , num_timeframes, num_features = X_train.shape\n",
    "X_train = X_train.reshape((-1,num_timeframes*num_features))\n",
    "from scipy.sparse import coo_matrix\n",
    "X_sparse = coo_matrix(X_train)\n",
    "\n",
    "from sklearn.utils import shuffle\n",
    "X_train, X_sparse, Y_train = shuffle(X_train, X_sparse, Y_train)\n",
    "X_train = X_train.reshape((-1,num_timeframes,num_features))"
   ]
  },
  {
   "cell_type": "code",
   "execution_count": 17,
   "metadata": {},
   "outputs": [
    {
     "name": "stdout",
     "output_type": "stream",
     "text": [
      "Training samples : (415, 3000) \n",
      "Testing Samples : (83, 3000)\n",
      "Training Labels : (415,) \n",
      "Testing Labels : (83,)\n"
     ]
    }
   ],
   "source": [
    "X_train = X_train.reshape((-1,num_timeframes*num_features))\n",
    "X_test = X_test.reshape((-1,num_timeframes*num_features))\n",
    "print(\"Training samples : {} \\nTesting Samples : {}\".format(X_train.shape, X_test.shape))\n",
    "print(\"Training Labels : {} \\nTesting Labels : {}\".format(Y_train.shape, Y_test.shape))"
   ]
  },
  {
   "cell_type": "code",
   "execution_count": 18,
   "metadata": {},
   "outputs": [
    {
     "name": "stdout",
     "output_type": "stream",
     "text": [
      "Fitting 3 folds for each of 32 candidates, totalling 96 fits\n",
      "[CV] metric=euclidean, n_neighbors=3, weights=uniform ................\n"
     ]
    },
    {
     "name": "stderr",
     "output_type": "stream",
     "text": [
      "[Parallel(n_jobs=1)]: Using backend SequentialBackend with 1 concurrent workers.\n"
     ]
    },
    {
     "name": "stdout",
     "output_type": "stream",
     "text": [
      "[CV] . metric=euclidean, n_neighbors=3, weights=uniform, total=   0.2s\n",
      "[CV] metric=euclidean, n_neighbors=3, weights=uniform ................\n"
     ]
    },
    {
     "name": "stderr",
     "output_type": "stream",
     "text": [
      "[Parallel(n_jobs=1)]: Done   1 out of   1 | elapsed:    0.1s remaining:    0.0s\n"
     ]
    },
    {
     "name": "stdout",
     "output_type": "stream",
     "text": [
      "[CV] . metric=euclidean, n_neighbors=3, weights=uniform, total=   0.2s\n",
      "[CV] metric=euclidean, n_neighbors=3, weights=uniform ................\n",
      "[CV] . metric=euclidean, n_neighbors=3, weights=uniform, total=   0.2s\n",
      "[CV] metric=euclidean, n_neighbors=3, weights=distance ...............\n",
      "[CV]  metric=euclidean, n_neighbors=3, weights=distance, total=   0.2s\n",
      "[CV] metric=euclidean, n_neighbors=3, weights=distance ...............\n",
      "[CV]  metric=euclidean, n_neighbors=3, weights=distance, total=   0.2s\n",
      "[CV] metric=euclidean, n_neighbors=3, weights=distance ...............\n",
      "[CV]  metric=euclidean, n_neighbors=3, weights=distance, total=   0.2s\n",
      "[CV] metric=euclidean, n_neighbors=5, weights=uniform ................\n",
      "[CV] . metric=euclidean, n_neighbors=5, weights=uniform, total=   0.3s\n",
      "[CV] metric=euclidean, n_neighbors=5, weights=uniform ................\n",
      "[CV] . metric=euclidean, n_neighbors=5, weights=uniform, total=   0.3s\n",
      "[CV] metric=euclidean, n_neighbors=5, weights=uniform ................\n",
      "[CV] . metric=euclidean, n_neighbors=5, weights=uniform, total=   0.2s\n",
      "[CV] metric=euclidean, n_neighbors=5, weights=distance ...............\n",
      "[CV]  metric=euclidean, n_neighbors=5, weights=distance, total=   0.3s\n",
      "[CV] metric=euclidean, n_neighbors=5, weights=distance ...............\n",
      "[CV]  metric=euclidean, n_neighbors=5, weights=distance, total=   0.2s\n",
      "[CV] metric=euclidean, n_neighbors=5, weights=distance ...............\n",
      "[CV]  metric=euclidean, n_neighbors=5, weights=distance, total=   0.2s\n",
      "[CV] metric=euclidean, n_neighbors=7, weights=uniform ................\n",
      "[CV] . metric=euclidean, n_neighbors=7, weights=uniform, total=   0.3s\n",
      "[CV] metric=euclidean, n_neighbors=7, weights=uniform ................\n",
      "[CV] . metric=euclidean, n_neighbors=7, weights=uniform, total=   0.2s\n",
      "[CV] metric=euclidean, n_neighbors=7, weights=uniform ................\n",
      "[CV] . metric=euclidean, n_neighbors=7, weights=uniform, total=   0.2s\n",
      "[CV] metric=euclidean, n_neighbors=7, weights=distance ...............\n",
      "[CV]  metric=euclidean, n_neighbors=7, weights=distance, total=   0.3s\n",
      "[CV] metric=euclidean, n_neighbors=7, weights=distance ...............\n",
      "[CV]  metric=euclidean, n_neighbors=7, weights=distance, total=   0.2s\n",
      "[CV] metric=euclidean, n_neighbors=7, weights=distance ...............\n",
      "[CV]  metric=euclidean, n_neighbors=7, weights=distance, total=   0.2s\n",
      "[CV] metric=euclidean, n_neighbors=9, weights=uniform ................\n",
      "[CV] . metric=euclidean, n_neighbors=9, weights=uniform, total=   0.2s\n",
      "[CV] metric=euclidean, n_neighbors=9, weights=uniform ................\n",
      "[CV] . metric=euclidean, n_neighbors=9, weights=uniform, total=   0.2s\n",
      "[CV] metric=euclidean, n_neighbors=9, weights=uniform ................\n",
      "[CV] . metric=euclidean, n_neighbors=9, weights=uniform, total=   0.2s\n",
      "[CV] metric=euclidean, n_neighbors=9, weights=distance ...............\n",
      "[CV]  metric=euclidean, n_neighbors=9, weights=distance, total=   0.2s\n",
      "[CV] metric=euclidean, n_neighbors=9, weights=distance ...............\n",
      "[CV]  metric=euclidean, n_neighbors=9, weights=distance, total=   0.2s\n",
      "[CV] metric=euclidean, n_neighbors=9, weights=distance ...............\n",
      "[CV]  metric=euclidean, n_neighbors=9, weights=distance, total=   0.2s\n",
      "[CV] metric=manhattan, n_neighbors=3, weights=uniform ................\n",
      "[CV] . metric=manhattan, n_neighbors=3, weights=uniform, total=   0.2s\n",
      "[CV] metric=manhattan, n_neighbors=3, weights=uniform ................\n",
      "[CV] . metric=manhattan, n_neighbors=3, weights=uniform, total=   0.2s\n",
      "[CV] metric=manhattan, n_neighbors=3, weights=uniform ................\n",
      "[CV] . metric=manhattan, n_neighbors=3, weights=uniform, total=   0.2s\n",
      "[CV] metric=manhattan, n_neighbors=3, weights=distance ...............\n",
      "[CV]  metric=manhattan, n_neighbors=3, weights=distance, total=   0.2s\n",
      "[CV] metric=manhattan, n_neighbors=3, weights=distance ...............\n",
      "[CV]  metric=manhattan, n_neighbors=3, weights=distance, total=   0.2s\n",
      "[CV] metric=manhattan, n_neighbors=3, weights=distance ...............\n",
      "[CV]  metric=manhattan, n_neighbors=3, weights=distance, total=   0.2s\n",
      "[CV] metric=manhattan, n_neighbors=5, weights=uniform ................\n",
      "[CV] . metric=manhattan, n_neighbors=5, weights=uniform, total=   0.2s\n",
      "[CV] metric=manhattan, n_neighbors=5, weights=uniform ................\n",
      "[CV] . metric=manhattan, n_neighbors=5, weights=uniform, total=   0.2s\n",
      "[CV] metric=manhattan, n_neighbors=5, weights=uniform ................\n",
      "[CV] . metric=manhattan, n_neighbors=5, weights=uniform, total=   0.2s\n",
      "[CV] metric=manhattan, n_neighbors=5, weights=distance ...............\n",
      "[CV]  metric=manhattan, n_neighbors=5, weights=distance, total=   0.2s\n",
      "[CV] metric=manhattan, n_neighbors=5, weights=distance ...............\n",
      "[CV]  metric=manhattan, n_neighbors=5, weights=distance, total=   0.2s\n",
      "[CV] metric=manhattan, n_neighbors=5, weights=distance ...............\n",
      "[CV]  metric=manhattan, n_neighbors=5, weights=distance, total=   0.2s\n",
      "[CV] metric=manhattan, n_neighbors=7, weights=uniform ................\n",
      "[CV] . metric=manhattan, n_neighbors=7, weights=uniform, total=   0.2s\n",
      "[CV] metric=manhattan, n_neighbors=7, weights=uniform ................\n",
      "[CV] . metric=manhattan, n_neighbors=7, weights=uniform, total=   0.2s\n",
      "[CV] metric=manhattan, n_neighbors=7, weights=uniform ................\n",
      "[CV] . metric=manhattan, n_neighbors=7, weights=uniform, total=   0.2s\n",
      "[CV] metric=manhattan, n_neighbors=7, weights=distance ...............\n",
      "[CV]  metric=manhattan, n_neighbors=7, weights=distance, total=   0.2s\n",
      "[CV] metric=manhattan, n_neighbors=7, weights=distance ...............\n",
      "[CV]  metric=manhattan, n_neighbors=7, weights=distance, total=   0.2s\n",
      "[CV] metric=manhattan, n_neighbors=7, weights=distance ...............\n",
      "[CV]  metric=manhattan, n_neighbors=7, weights=distance, total=   0.2s\n",
      "[CV] metric=manhattan, n_neighbors=9, weights=uniform ................\n",
      "[CV] . metric=manhattan, n_neighbors=9, weights=uniform, total=   0.2s\n",
      "[CV] metric=manhattan, n_neighbors=9, weights=uniform ................\n",
      "[CV] . metric=manhattan, n_neighbors=9, weights=uniform, total=   0.2s\n",
      "[CV] metric=manhattan, n_neighbors=9, weights=uniform ................\n",
      "[CV] . metric=manhattan, n_neighbors=9, weights=uniform, total=   0.2s\n",
      "[CV] metric=manhattan, n_neighbors=9, weights=distance ...............\n",
      "[CV]  metric=manhattan, n_neighbors=9, weights=distance, total=   0.2s\n",
      "[CV] metric=manhattan, n_neighbors=9, weights=distance ...............\n",
      "[CV]  metric=manhattan, n_neighbors=9, weights=distance, total=   0.2s\n",
      "[CV] metric=manhattan, n_neighbors=9, weights=distance ...............\n",
      "[CV]  metric=manhattan, n_neighbors=9, weights=distance, total=   0.2s\n",
      "[CV] metric=minkowski, n_neighbors=3, weights=uniform ................\n",
      "[CV] . metric=minkowski, n_neighbors=3, weights=uniform, total=   0.2s\n",
      "[CV] metric=minkowski, n_neighbors=3, weights=uniform ................\n",
      "[CV] . metric=minkowski, n_neighbors=3, weights=uniform, total=   0.2s\n",
      "[CV] metric=minkowski, n_neighbors=3, weights=uniform ................\n",
      "[CV] . metric=minkowski, n_neighbors=3, weights=uniform, total=   0.2s\n",
      "[CV] metric=minkowski, n_neighbors=3, weights=distance ...............\n",
      "[CV]  metric=minkowski, n_neighbors=3, weights=distance, total=   0.2s\n",
      "[CV] metric=minkowski, n_neighbors=3, weights=distance ...............\n",
      "[CV]  metric=minkowski, n_neighbors=3, weights=distance, total=   0.2s\n",
      "[CV] metric=minkowski, n_neighbors=3, weights=distance ...............\n",
      "[CV]  metric=minkowski, n_neighbors=3, weights=distance, total=   0.2s\n",
      "[CV] metric=minkowski, n_neighbors=5, weights=uniform ................\n",
      "[CV] . metric=minkowski, n_neighbors=5, weights=uniform, total=   0.2s\n",
      "[CV] metric=minkowski, n_neighbors=5, weights=uniform ................\n",
      "[CV] . metric=minkowski, n_neighbors=5, weights=uniform, total=   0.2s\n",
      "[CV] metric=minkowski, n_neighbors=5, weights=uniform ................\n",
      "[CV] . metric=minkowski, n_neighbors=5, weights=uniform, total=   0.2s\n",
      "[CV] metric=minkowski, n_neighbors=5, weights=distance ...............\n",
      "[CV]  metric=minkowski, n_neighbors=5, weights=distance, total=   0.2s\n",
      "[CV] metric=minkowski, n_neighbors=5, weights=distance ...............\n",
      "[CV]  metric=minkowski, n_neighbors=5, weights=distance, total=   0.2s\n",
      "[CV] metric=minkowski, n_neighbors=5, weights=distance ...............\n"
     ]
    },
    {
     "name": "stdout",
     "output_type": "stream",
     "text": [
      "[CV]  metric=minkowski, n_neighbors=5, weights=distance, total=   0.2s\n",
      "[CV] metric=minkowski, n_neighbors=7, weights=uniform ................\n",
      "[CV] . metric=minkowski, n_neighbors=7, weights=uniform, total=   0.2s\n",
      "[CV] metric=minkowski, n_neighbors=7, weights=uniform ................\n",
      "[CV] . metric=minkowski, n_neighbors=7, weights=uniform, total=   0.2s\n",
      "[CV] metric=minkowski, n_neighbors=7, weights=uniform ................\n",
      "[CV] . metric=minkowski, n_neighbors=7, weights=uniform, total=   0.2s\n",
      "[CV] metric=minkowski, n_neighbors=7, weights=distance ...............\n",
      "[CV]  metric=minkowski, n_neighbors=7, weights=distance, total=   0.2s\n",
      "[CV] metric=minkowski, n_neighbors=7, weights=distance ...............\n",
      "[CV]  metric=minkowski, n_neighbors=7, weights=distance, total=   0.2s\n",
      "[CV] metric=minkowski, n_neighbors=7, weights=distance ...............\n",
      "[CV]  metric=minkowski, n_neighbors=7, weights=distance, total=   0.2s\n",
      "[CV] metric=minkowski, n_neighbors=9, weights=uniform ................\n",
      "[CV] . metric=minkowski, n_neighbors=9, weights=uniform, total=   0.3s\n",
      "[CV] metric=minkowski, n_neighbors=9, weights=uniform ................\n",
      "[CV] . metric=minkowski, n_neighbors=9, weights=uniform, total=   0.3s\n",
      "[CV] metric=minkowski, n_neighbors=9, weights=uniform ................\n",
      "[CV] . metric=minkowski, n_neighbors=9, weights=uniform, total=   0.2s\n",
      "[CV] metric=minkowski, n_neighbors=9, weights=distance ...............\n",
      "[CV]  metric=minkowski, n_neighbors=9, weights=distance, total=   0.3s\n",
      "[CV] metric=minkowski, n_neighbors=9, weights=distance ...............\n",
      "[CV]  metric=minkowski, n_neighbors=9, weights=distance, total=   0.2s\n",
      "[CV] metric=minkowski, n_neighbors=9, weights=distance ...............\n",
      "[CV]  metric=minkowski, n_neighbors=9, weights=distance, total=   0.2s\n",
      "[CV] metric=chebyshev, n_neighbors=3, weights=uniform ................\n",
      "[CV] . metric=chebyshev, n_neighbors=3, weights=uniform, total=   0.2s\n",
      "[CV] metric=chebyshev, n_neighbors=3, weights=uniform ................\n",
      "[CV] . metric=chebyshev, n_neighbors=3, weights=uniform, total=   0.2s\n",
      "[CV] metric=chebyshev, n_neighbors=3, weights=uniform ................\n",
      "[CV] . metric=chebyshev, n_neighbors=3, weights=uniform, total=   0.2s\n",
      "[CV] metric=chebyshev, n_neighbors=3, weights=distance ...............\n",
      "[CV]  metric=chebyshev, n_neighbors=3, weights=distance, total=   0.2s\n",
      "[CV] metric=chebyshev, n_neighbors=3, weights=distance ...............\n",
      "[CV]  metric=chebyshev, n_neighbors=3, weights=distance, total=   0.2s\n",
      "[CV] metric=chebyshev, n_neighbors=3, weights=distance ...............\n",
      "[CV]  metric=chebyshev, n_neighbors=3, weights=distance, total=   0.2s\n",
      "[CV] metric=chebyshev, n_neighbors=5, weights=uniform ................\n",
      "[CV] . metric=chebyshev, n_neighbors=5, weights=uniform, total=   0.2s\n",
      "[CV] metric=chebyshev, n_neighbors=5, weights=uniform ................\n",
      "[CV] . metric=chebyshev, n_neighbors=5, weights=uniform, total=   0.2s\n",
      "[CV] metric=chebyshev, n_neighbors=5, weights=uniform ................\n",
      "[CV] . metric=chebyshev, n_neighbors=5, weights=uniform, total=   0.2s\n",
      "[CV] metric=chebyshev, n_neighbors=5, weights=distance ...............\n",
      "[CV]  metric=chebyshev, n_neighbors=5, weights=distance, total=   0.2s\n",
      "[CV] metric=chebyshev, n_neighbors=5, weights=distance ...............\n",
      "[CV]  metric=chebyshev, n_neighbors=5, weights=distance, total=   0.2s\n",
      "[CV] metric=chebyshev, n_neighbors=5, weights=distance ...............\n",
      "[CV]  metric=chebyshev, n_neighbors=5, weights=distance, total=   0.2s\n",
      "[CV] metric=chebyshev, n_neighbors=7, weights=uniform ................\n",
      "[CV] . metric=chebyshev, n_neighbors=7, weights=uniform, total=   0.2s\n",
      "[CV] metric=chebyshev, n_neighbors=7, weights=uniform ................\n",
      "[CV] . metric=chebyshev, n_neighbors=7, weights=uniform, total=   0.2s\n",
      "[CV] metric=chebyshev, n_neighbors=7, weights=uniform ................\n",
      "[CV] . metric=chebyshev, n_neighbors=7, weights=uniform, total=   0.2s\n",
      "[CV] metric=chebyshev, n_neighbors=7, weights=distance ...............\n",
      "[CV]  metric=chebyshev, n_neighbors=7, weights=distance, total=   0.2s\n",
      "[CV] metric=chebyshev, n_neighbors=7, weights=distance ...............\n",
      "[CV]  metric=chebyshev, n_neighbors=7, weights=distance, total=   0.2s\n",
      "[CV] metric=chebyshev, n_neighbors=7, weights=distance ...............\n",
      "[CV]  metric=chebyshev, n_neighbors=7, weights=distance, total=   0.2s\n",
      "[CV] metric=chebyshev, n_neighbors=9, weights=uniform ................\n",
      "[CV] . metric=chebyshev, n_neighbors=9, weights=uniform, total=   0.2s\n",
      "[CV] metric=chebyshev, n_neighbors=9, weights=uniform ................\n",
      "[CV] . metric=chebyshev, n_neighbors=9, weights=uniform, total=   0.2s\n",
      "[CV] metric=chebyshev, n_neighbors=9, weights=uniform ................\n",
      "[CV] . metric=chebyshev, n_neighbors=9, weights=uniform, total=   0.2s\n",
      "[CV] metric=chebyshev, n_neighbors=9, weights=distance ...............\n",
      "[CV]  metric=chebyshev, n_neighbors=9, weights=distance, total=   0.2s\n",
      "[CV] metric=chebyshev, n_neighbors=9, weights=distance ...............\n",
      "[CV]  metric=chebyshev, n_neighbors=9, weights=distance, total=   0.2s\n",
      "[CV] metric=chebyshev, n_neighbors=9, weights=distance ...............\n",
      "[CV]  metric=chebyshev, n_neighbors=9, weights=distance, total=   0.2s\n"
     ]
    },
    {
     "name": "stderr",
     "output_type": "stream",
     "text": [
      "[Parallel(n_jobs=1)]: Done  96 out of  96 | elapsed:   21.4s finished\n"
     ]
    },
    {
     "data": {
      "text/plain": [
       "GridSearchCV(cv=3, error_score=nan,\n",
       "             estimator=KNeighborsClassifier(algorithm='auto', leaf_size=30,\n",
       "                                            metric='minkowski',\n",
       "                                            metric_params=None, n_jobs=None,\n",
       "                                            n_neighbors=5, p=2,\n",
       "                                            weights='uniform'),\n",
       "             iid='deprecated', n_jobs=None,\n",
       "             param_grid={'metric': ['euclidean', 'manhattan', 'minkowski',\n",
       "                                    'chebyshev'],\n",
       "                         'n_neighbors': [3, 5, 7, 9],\n",
       "                         'weights': ['uniform', 'distance']},\n",
       "             pre_dispatch='2*n_jobs', refit=True, return_train_score=False,\n",
       "             scoring=None, verbose=2)"
      ]
     },
     "execution_count": 18,
     "metadata": {},
     "output_type": "execute_result"
    }
   ],
   "source": [
    "parameters = {\n",
    "    \"n_neighbors\": list(range(3,11,2)),\n",
    "    \"weights\": ['uniform','distance'],\n",
    "    \"metric\":['euclidean','manhattan','minkowski','chebyshev']\n",
    "}\n",
    "\n",
    "grid = GridSearchCV(KNeighborsClassifier(), parameters, cv=3, verbose=2)\n",
    "grid.fit(X_train, Y_train)"
   ]
  },
  {
   "cell_type": "code",
   "execution_count": 19,
   "metadata": {},
   "outputs": [
    {
     "data": {
      "text/plain": [
       "KNeighborsClassifier(algorithm='auto', leaf_size=30, metric='manhattan',\n",
       "                     metric_params=None, n_jobs=None, n_neighbors=3, p=2,\n",
       "                     weights='distance')"
      ]
     },
     "execution_count": 19,
     "metadata": {},
     "output_type": "execute_result"
    }
   ],
   "source": [
    "clf = grid.best_estimator_\n",
    "clf.fit(X_train,Y_train)"
   ]
  },
  {
   "cell_type": "markdown",
   "metadata": {},
   "source": [
    "# Saving Model"
   ]
  },
  {
   "cell_type": "code",
   "execution_count": 20,
   "metadata": {},
   "outputs": [
    {
     "name": "stdout",
     "output_type": "stream",
     "text": [
      "Model Saved\n"
     ]
    }
   ],
   "source": [
    "pickle.dump(clf, open(os.path.join(\"..\", \"IPD\", \"KNN_model.pkl\"), 'wb'))\n",
    "print(\"Model Saved\")"
   ]
  },
  {
   "cell_type": "code",
   "execution_count": null,
   "metadata": {},
   "outputs": [],
   "source": []
  }
 ],
 "metadata": {
  "kernelspec": {
   "display_name": "Python 3",
   "language": "python",
   "name": "python3"
  },
  "language_info": {
   "codemirror_mode": {
    "name": "ipython",
    "version": 3
   },
   "file_extension": ".py",
   "mimetype": "text/x-python",
   "name": "python",
   "nbconvert_exporter": "python",
   "pygments_lexer": "ipython3",
   "version": "3.7.7"
  }
 },
 "nbformat": 4,
 "nbformat_minor": 4
}
