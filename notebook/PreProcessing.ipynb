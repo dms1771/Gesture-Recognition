{
 "cells": [
  {
   "cell_type": "markdown",
   "metadata": {},
   "source": [
    "# Import Necessary libraries"
   ]
  },
  {
   "cell_type": "code",
   "execution_count": 1,
   "metadata": {},
   "outputs": [],
   "source": [
    "import numpy as np\n",
    "import pandas as pd\n",
    "import matplotlib.pyplot as plt\n",
    "import random\n",
    "import math\n",
    "import collections\n",
    "import os\n",
    "import json"
   ]
  },
  {
   "cell_type": "markdown",
   "metadata": {},
   "source": [
    "# Defining Global Variables"
   ]
  },
  {
   "cell_type": "code",
   "execution_count": 2,
   "metadata": {},
   "outputs": [],
   "source": [
    "root_folder = \"data\"\n",
    "datatype_folder = \"csv\"\n",
    "data_folders = [\"buy\",\"communicate\",\"fun\",\"hope\",\"mother\",\"really\"]\n",
    "\n",
    "path = os.path.join(\"..\", root_folder, datatype_folder)"
   ]
  },
  {
   "cell_type": "markdown",
   "metadata": {},
   "source": [
    "# Extracting only useful data"
   ]
  },
  {
   "cell_type": "code",
   "execution_count": 3,
   "metadata": {},
   "outputs": [],
   "source": [
    "feature_list = [\"leftEye_x\", \"leftEye_y\", \"rightEye_x\",  \"rightEye_y\", \"nose_x\", \"nose_y\", \"leftShoulder_x\", \"leftShoulder_y\", \"rightShoulder_x\", \"rightShoulder_y\", \"leftElbow_x\", \"leftElbow_y\", \"rightElbow_x\", \"rightElbow_y\", \"leftWrist_x\", \"leftWrist_y\", \"rightWrist_x\", \"rightWrist_y\"]\n",
    "label_dict = {'buy':0,'communicate':1,'fun':2,'hope':3,'mother':4,'really':5}\n",
    "X = []\n",
    "Y = []\n",
    "for sign in data_folders:\n",
    "    for file in os.listdir(os.path.join(path, sign)):\n",
    "        file_path = os.path.join(path, sign, file)\n",
    "        \n",
    "        df = pd.read_csv(file_path)[feature_list]\n",
    "        X.append(df.to_numpy())\n",
    "        Y.append(label_dict[sign])"
   ]
  },
  {
   "cell_type": "markdown",
   "metadata": {},
   "source": [
    "# Min and Max Time frames in a sample"
   ]
  },
  {
   "cell_type": "code",
   "execution_count": 4,
   "metadata": {},
   "outputs": [
    {
     "name": "stdout",
     "output_type": "stream",
     "text": [
      "33 232\n"
     ]
    }
   ],
   "source": [
    "min_timeframes = min([len(sign) for sign in X])\n",
    "max_timeframes = max([len(sign) for sign in X])\n",
    "print(min_timeframes, max_timeframes)"
   ]
  },
  {
   "cell_type": "markdown",
   "metadata": {},
   "source": [
    "# Creating dataframe of same size\n",
    "---------------\n",
    "Adding '0' content to videos of smaller size to make them just as long as the longets one. Reducing the sise of larger videos would remove important information from them."
   ]
  },
  {
   "cell_type": "code",
   "execution_count": 5,
   "metadata": {},
   "outputs": [
    {
     "name": "stdout",
     "output_type": "stream",
     "text": [
      "(415, 232, 18) (415,)\n"
     ]
    }
   ],
   "source": [
    "for i in range(len(X)):\n",
    "    diff = max_timeframes - len(X[i])\n",
    "    zeros = np.zeros(shape=(diff, len(feature_list)))\n",
    "    X[i] = np.append(X[i], zeros, axis=0)\n",
    "\n",
    "X = np.array(X)\n",
    "Y = np.array(Y)\n",
    "print(X.shape, Y.shape)"
   ]
  },
  {
   "cell_type": "markdown",
   "metadata": {},
   "source": [
    "# Normalizing data\n",
    "-------------\n"
   ]
  },
  {
   "cell_type": "code",
   "execution_count": 6,
   "metadata": {},
   "outputs": [],
   "source": [
    "for i in range(len(X)):\n",
    "    x_denom = abs(X[i,:,0] - X[i,:,2])\n",
    "    y_denom = abs(X[i,:,1] - X[i,:,3])\n",
    "    x_num = X[i,:,4]\n",
    "    y_num = X[i,:,5]\n",
    "\n",
    "    for col in range(6, len(feature_list), 2):\n",
    "        X[i,:,col] = np.divide(X[i,:,col]-x_num, x_denom, out=np.zeros((max_timeframes, )), where=x_denom!=0)\n",
    "    \n",
    "    for col in range(7, len(feature_list), 2):\n",
    "        X[i,:,col] = np.divide(X[i,:,col]-y_num, y_denom, out=np.zeros((max_timeframes, )), where=y_denom!=0)"
   ]
  },
  {
   "cell_type": "markdown",
   "metadata": {},
   "source": [
    "# Saving Numpy Array\n",
    "-----------------\n",
    "saving the entire normalized numpy data and the label so that we dont run it again and again. We are only saving features that we need, so columns of nose and eye data have been removed"
   ]
  },
  {
   "cell_type": "code",
   "execution_count": 7,
   "metadata": {},
   "outputs": [],
   "source": [
    "np.save(os.path.join(\"..\", \"IPD\", \"data_numpy.npy\"), X[:,:,6:]) #shape-> (415, 232, 12) \n",
    "np.save(os.path.join(\"..\", \"IPD\", \"label_numpy.npy\"), Y) #shape-> (415, )"
   ]
  },
  {
   "cell_type": "code",
   "execution_count": null,
   "metadata": {},
   "outputs": [],
   "source": []
  },
  {
   "cell_type": "code",
   "execution_count": null,
   "metadata": {},
   "outputs": [],
   "source": []
  },
  {
   "cell_type": "code",
   "execution_count": null,
   "metadata": {},
   "outputs": [],
   "source": []
  }
 ],
 "metadata": {
  "kernelspec": {
   "display_name": "Python 3",
   "language": "python",
   "name": "python3"
  },
  "language_info": {
   "codemirror_mode": {
    "name": "ipython",
    "version": 3
   },
   "file_extension": ".py",
   "mimetype": "text/x-python",
   "name": "python",
   "nbconvert_exporter": "python",
   "pygments_lexer": "ipython3",
   "version": "3.7.7"
  }
 },
 "nbformat": 4,
 "nbformat_minor": 4
}
